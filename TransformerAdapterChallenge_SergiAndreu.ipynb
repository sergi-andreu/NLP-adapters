{
  "cells": [
    {
      "cell_type": "markdown",
      "metadata": {
        "id": "view-in-github",
        "colab_type": "text"
      },
      "source": [
        "<a href=\"https://colab.research.google.com/github/sergi-andreu/NLP-adapters/blob/main/TransformerAdapterChallenge_SergiAndreu.ipynb\" target=\"_parent\"><img src=\"https://colab.research.google.com/assets/colab-badge.svg\" alt=\"Open In Colab\"/></a>"
      ]
    },
    {
      "cell_type": "markdown",
      "id": "nrzNaqCZlDzF",
      "metadata": {
        "id": "nrzNaqCZlDzF"
      },
      "source": [
        "# Setup\n",
        "Do not edit these lines, but execute them to set up your development environment.\n",
        "\n",
        "You can install additional libraries using the same `pip` pattern as seen in the cells below"
      ]
    },
    {
      "cell_type": "code",
      "execution_count": null,
      "id": "TnIozPvpAGR0",
      "metadata": {
        "id": "TnIozPvpAGR0",
        "colab": {
          "base_uri": "https://localhost:8080/"
        },
        "collapsed": true,
        "outputId": "c954e1f6-c3ec-4493-f2a8-c44522b6601d"
      },
      "outputs": [
        {
          "output_type": "stream",
          "name": "stdout",
          "text": [
            "Looking in indexes: https://pypi.org/simple, https://us-python.pkg.dev/colab-wheels/public/simple/\n",
            "Requirement already satisfied: squirrel-core[torch] in /usr/local/lib/python3.7/dist-packages (0.17.4)\n",
            "Requirement already satisfied: pyjwt>=2.4.0 in /usr/local/lib/python3.7/dist-packages (from squirrel-core[torch]) (2.5.0)\n",
            "Requirement already satisfied: msgpack in /usr/local/lib/python3.7/dist-packages (from squirrel-core[torch]) (1.0.4)\n",
            "Requirement already satisfied: numba in /usr/local/lib/python3.7/dist-packages (from squirrel-core[torch]) (0.56.2)\n",
            "Requirement already satisfied: fsspec>=0.8.7 in /usr/local/lib/python3.7/dist-packages (from squirrel-core[torch]) (2022.8.2)\n",
            "Requirement already satisfied: random-name in /usr/local/lib/python3.7/dist-packages (from squirrel-core[torch]) (0.1.1)\n",
            "Requirement already satisfied: pluggy in /usr/local/lib/python3.7/dist-packages (from squirrel-core[torch]) (0.7.1)\n",
            "Requirement already satisfied: numpy in /usr/local/lib/python3.7/dist-packages (from squirrel-core[torch]) (1.21.6)\n",
            "Requirement already satisfied: tqdm in /usr/local/lib/python3.7/dist-packages (from squirrel-core[torch]) (4.64.1)\n",
            "Requirement already satisfied: msgpack-numpy in /usr/local/lib/python3.7/dist-packages (from squirrel-core[torch]) (0.4.8)\n",
            "Requirement already satisfied: ruamel.yaml in /usr/local/lib/python3.7/dist-packages (from squirrel-core[torch]) (0.17.21)\n",
            "Requirement already satisfied: more-itertools in /usr/local/lib/python3.7/dist-packages (from squirrel-core[torch]) (8.14.0)\n",
            "Requirement already satisfied: aiohttp>=3.7.4 in /usr/local/lib/python3.7/dist-packages (from squirrel-core[torch]) (3.8.1)\n",
            "Requirement already satisfied: torch in /usr/local/lib/python3.7/dist-packages (from squirrel-core[torch]) (1.12.1+cu113)\n",
            "Requirement already satisfied: frozenlist>=1.1.1 in /usr/local/lib/python3.7/dist-packages (from aiohttp>=3.7.4->squirrel-core[torch]) (1.3.1)\n",
            "Requirement already satisfied: attrs>=17.3.0 in /usr/local/lib/python3.7/dist-packages (from aiohttp>=3.7.4->squirrel-core[torch]) (22.1.0)\n",
            "Requirement already satisfied: aiosignal>=1.1.2 in /usr/local/lib/python3.7/dist-packages (from aiohttp>=3.7.4->squirrel-core[torch]) (1.2.0)\n",
            "Requirement already satisfied: charset-normalizer<3.0,>=2.0 in /usr/local/lib/python3.7/dist-packages (from aiohttp>=3.7.4->squirrel-core[torch]) (2.1.1)\n",
            "Requirement already satisfied: asynctest==0.13.0 in /usr/local/lib/python3.7/dist-packages (from aiohttp>=3.7.4->squirrel-core[torch]) (0.13.0)\n",
            "Requirement already satisfied: yarl<2.0,>=1.0 in /usr/local/lib/python3.7/dist-packages (from aiohttp>=3.7.4->squirrel-core[torch]) (1.8.1)\n",
            "Requirement already satisfied: typing-extensions>=3.7.4 in /usr/local/lib/python3.7/dist-packages (from aiohttp>=3.7.4->squirrel-core[torch]) (4.1.1)\n",
            "Requirement already satisfied: async-timeout<5.0,>=4.0.0a3 in /usr/local/lib/python3.7/dist-packages (from aiohttp>=3.7.4->squirrel-core[torch]) (4.0.2)\n",
            "Requirement already satisfied: multidict<7.0,>=4.5 in /usr/local/lib/python3.7/dist-packages (from aiohttp>=3.7.4->squirrel-core[torch]) (6.0.2)\n",
            "Requirement already satisfied: idna>=2.0 in /usr/local/lib/python3.7/dist-packages (from yarl<2.0,>=1.0->aiohttp>=3.7.4->squirrel-core[torch]) (2.10)\n",
            "Requirement already satisfied: setuptools<60 in /usr/local/lib/python3.7/dist-packages (from numba->squirrel-core[torch]) (57.4.0)\n",
            "Requirement already satisfied: llvmlite<0.40,>=0.39.0dev0 in /usr/local/lib/python3.7/dist-packages (from numba->squirrel-core[torch]) (0.39.1)\n",
            "Requirement already satisfied: importlib-metadata in /usr/local/lib/python3.7/dist-packages (from numba->squirrel-core[torch]) (4.12.0)\n",
            "Requirement already satisfied: zipp>=0.5 in /usr/local/lib/python3.7/dist-packages (from importlib-metadata->numba->squirrel-core[torch]) (3.8.1)\n",
            "Requirement already satisfied: ruamel.yaml.clib>=0.2.6 in /usr/local/lib/python3.7/dist-packages (from ruamel.yaml->squirrel-core[torch]) (0.2.6)\n",
            "Looking in indexes: https://pypi.org/simple, https://us-python.pkg.dev/colab-wheels/public/simple/\n",
            "Requirement already satisfied: squirrel-datasets-core[torchvision] in /usr/local/lib/python3.7/dist-packages (0.1.10)\n",
            "Requirement already satisfied: numpy in /usr/local/lib/python3.7/dist-packages (from squirrel-datasets-core[torchvision]) (1.21.6)\n",
            "Requirement already satisfied: scipy in /usr/local/lib/python3.7/dist-packages (from squirrel-datasets-core[torchvision]) (1.7.3)\n",
            "Requirement already satisfied: datasets in /usr/local/lib/python3.7/dist-packages (from squirrel-datasets-core[torchvision]) (2.5.2)\n",
            "Requirement already satisfied: squirrel-core[gcp,zarr]>=0.14.2 in /usr/local/lib/python3.7/dist-packages (from squirrel-datasets-core[torchvision]) (0.17.4)\n",
            "Requirement already satisfied: docutils in /usr/local/lib/python3.7/dist-packages (from squirrel-datasets-core[torchvision]) (0.17.1)\n",
            "Requirement already satisfied: fire in /usr/local/lib/python3.7/dist-packages (from squirrel-datasets-core[torchvision]) (0.4.0)\n",
            "Requirement already satisfied: hub in /usr/local/lib/python3.7/dist-packages (from squirrel-datasets-core[torchvision]) (3.0.0)\n",
            "Requirement already satisfied: pillow in /usr/local/lib/python3.7/dist-packages (from squirrel-datasets-core[torchvision]) (7.1.2)\n",
            "Requirement already satisfied: torchvision in /usr/local/lib/python3.7/dist-packages (from squirrel-datasets-core[torchvision]) (0.13.1+cu113)\n",
            "Requirement already satisfied: msgpack-numpy in /usr/local/lib/python3.7/dist-packages (from squirrel-core[gcp,zarr]>=0.14.2->squirrel-datasets-core[torchvision]) (0.4.8)\n",
            "Requirement already satisfied: ruamel.yaml in /usr/local/lib/python3.7/dist-packages (from squirrel-core[gcp,zarr]>=0.14.2->squirrel-datasets-core[torchvision]) (0.17.21)\n",
            "Requirement already satisfied: aiohttp>=3.7.4 in /usr/local/lib/python3.7/dist-packages (from squirrel-core[gcp,zarr]>=0.14.2->squirrel-datasets-core[torchvision]) (3.8.1)\n",
            "Requirement already satisfied: numba in /usr/local/lib/python3.7/dist-packages (from squirrel-core[gcp,zarr]>=0.14.2->squirrel-datasets-core[torchvision]) (0.56.2)\n",
            "Requirement already satisfied: pluggy in /usr/local/lib/python3.7/dist-packages (from squirrel-core[gcp,zarr]>=0.14.2->squirrel-datasets-core[torchvision]) (0.7.1)\n",
            "Requirement already satisfied: random-name in /usr/local/lib/python3.7/dist-packages (from squirrel-core[gcp,zarr]>=0.14.2->squirrel-datasets-core[torchvision]) (0.1.1)\n",
            "Requirement already satisfied: tqdm in /usr/local/lib/python3.7/dist-packages (from squirrel-core[gcp,zarr]>=0.14.2->squirrel-datasets-core[torchvision]) (4.64.1)\n",
            "Requirement already satisfied: msgpack in /usr/local/lib/python3.7/dist-packages (from squirrel-core[gcp,zarr]>=0.14.2->squirrel-datasets-core[torchvision]) (1.0.4)\n",
            "Requirement already satisfied: fsspec>=0.8.7 in /usr/local/lib/python3.7/dist-packages (from squirrel-core[gcp,zarr]>=0.14.2->squirrel-datasets-core[torchvision]) (2022.8.2)\n",
            "Requirement already satisfied: more-itertools in /usr/local/lib/python3.7/dist-packages (from squirrel-core[gcp,zarr]>=0.14.2->squirrel-datasets-core[torchvision]) (8.14.0)\n",
            "Requirement already satisfied: pyjwt>=2.4.0 in /usr/local/lib/python3.7/dist-packages (from squirrel-core[gcp,zarr]>=0.14.2->squirrel-datasets-core[torchvision]) (2.5.0)\n",
            "Requirement already satisfied: gcsfs>=2021.06.0 in /usr/local/lib/python3.7/dist-packages (from squirrel-core[gcp,zarr]>=0.14.2->squirrel-datasets-core[torchvision]) (2022.8.2)\n",
            "Requirement already satisfied: zarr==2.10.3 in /usr/local/lib/python3.7/dist-packages (from squirrel-core[gcp,zarr]>=0.14.2->squirrel-datasets-core[torchvision]) (2.10.3)\n",
            "Requirement already satisfied: asciitree in /usr/local/lib/python3.7/dist-packages (from zarr==2.10.3->squirrel-core[gcp,zarr]>=0.14.2->squirrel-datasets-core[torchvision]) (0.3.3)\n",
            "Requirement already satisfied: numcodecs>=0.6.4 in /usr/local/lib/python3.7/dist-packages (from zarr==2.10.3->squirrel-core[gcp,zarr]>=0.14.2->squirrel-datasets-core[torchvision]) (0.10.2)\n",
            "Requirement already satisfied: fasteners in /usr/local/lib/python3.7/dist-packages (from zarr==2.10.3->squirrel-core[gcp,zarr]>=0.14.2->squirrel-datasets-core[torchvision]) (0.18)\n",
            "Requirement already satisfied: asynctest==0.13.0 in /usr/local/lib/python3.7/dist-packages (from aiohttp>=3.7.4->squirrel-core[gcp,zarr]>=0.14.2->squirrel-datasets-core[torchvision]) (0.13.0)\n",
            "Requirement already satisfied: charset-normalizer<3.0,>=2.0 in /usr/local/lib/python3.7/dist-packages (from aiohttp>=3.7.4->squirrel-core[gcp,zarr]>=0.14.2->squirrel-datasets-core[torchvision]) (2.1.1)\n",
            "Requirement already satisfied: typing-extensions>=3.7.4 in /usr/local/lib/python3.7/dist-packages (from aiohttp>=3.7.4->squirrel-core[gcp,zarr]>=0.14.2->squirrel-datasets-core[torchvision]) (4.1.1)\n",
            "Requirement already satisfied: async-timeout<5.0,>=4.0.0a3 in /usr/local/lib/python3.7/dist-packages (from aiohttp>=3.7.4->squirrel-core[gcp,zarr]>=0.14.2->squirrel-datasets-core[torchvision]) (4.0.2)\n",
            "Requirement already satisfied: attrs>=17.3.0 in /usr/local/lib/python3.7/dist-packages (from aiohttp>=3.7.4->squirrel-core[gcp,zarr]>=0.14.2->squirrel-datasets-core[torchvision]) (22.1.0)\n",
            "Requirement already satisfied: multidict<7.0,>=4.5 in /usr/local/lib/python3.7/dist-packages (from aiohttp>=3.7.4->squirrel-core[gcp,zarr]>=0.14.2->squirrel-datasets-core[torchvision]) (6.0.2)\n",
            "Requirement already satisfied: frozenlist>=1.1.1 in /usr/local/lib/python3.7/dist-packages (from aiohttp>=3.7.4->squirrel-core[gcp,zarr]>=0.14.2->squirrel-datasets-core[torchvision]) (1.3.1)\n",
            "Requirement already satisfied: aiosignal>=1.1.2 in /usr/local/lib/python3.7/dist-packages (from aiohttp>=3.7.4->squirrel-core[gcp,zarr]>=0.14.2->squirrel-datasets-core[torchvision]) (1.2.0)\n",
            "Requirement already satisfied: yarl<2.0,>=1.0 in /usr/local/lib/python3.7/dist-packages (from aiohttp>=3.7.4->squirrel-core[gcp,zarr]>=0.14.2->squirrel-datasets-core[torchvision]) (1.8.1)\n",
            "Requirement already satisfied: google-auth>=1.2 in /usr/local/lib/python3.7/dist-packages (from gcsfs>=2021.06.0->squirrel-core[gcp,zarr]>=0.14.2->squirrel-datasets-core[torchvision]) (1.35.0)\n",
            "Requirement already satisfied: google-cloud-storage in /usr/local/lib/python3.7/dist-packages (from gcsfs>=2021.06.0->squirrel-core[gcp,zarr]>=0.14.2->squirrel-datasets-core[torchvision]) (1.18.1)\n",
            "Requirement already satisfied: google-auth-oauthlib in /usr/local/lib/python3.7/dist-packages (from gcsfs>=2021.06.0->squirrel-core[gcp,zarr]>=0.14.2->squirrel-datasets-core[torchvision]) (0.4.6)\n",
            "Requirement already satisfied: decorator>4.1.2 in /usr/local/lib/python3.7/dist-packages (from gcsfs>=2021.06.0->squirrel-core[gcp,zarr]>=0.14.2->squirrel-datasets-core[torchvision]) (4.4.2)\n",
            "Requirement already satisfied: requests in /usr/local/lib/python3.7/dist-packages (from gcsfs>=2021.06.0->squirrel-core[gcp,zarr]>=0.14.2->squirrel-datasets-core[torchvision]) (2.23.0)\n",
            "Requirement already satisfied: setuptools>=40.3.0 in /usr/local/lib/python3.7/dist-packages (from google-auth>=1.2->gcsfs>=2021.06.0->squirrel-core[gcp,zarr]>=0.14.2->squirrel-datasets-core[torchvision]) (57.4.0)\n",
            "Requirement already satisfied: six>=1.9.0 in /usr/local/lib/python3.7/dist-packages (from google-auth>=1.2->gcsfs>=2021.06.0->squirrel-core[gcp,zarr]>=0.14.2->squirrel-datasets-core[torchvision]) (1.15.0)\n",
            "Requirement already satisfied: rsa<5,>=3.1.4 in /usr/local/lib/python3.7/dist-packages (from google-auth>=1.2->gcsfs>=2021.06.0->squirrel-core[gcp,zarr]>=0.14.2->squirrel-datasets-core[torchvision]) (4.9)\n",
            "Requirement already satisfied: cachetools<5.0,>=2.0.0 in /usr/local/lib/python3.7/dist-packages (from google-auth>=1.2->gcsfs>=2021.06.0->squirrel-core[gcp,zarr]>=0.14.2->squirrel-datasets-core[torchvision]) (4.2.4)\n",
            "Requirement already satisfied: pyasn1-modules>=0.2.1 in /usr/local/lib/python3.7/dist-packages (from google-auth>=1.2->gcsfs>=2021.06.0->squirrel-core[gcp,zarr]>=0.14.2->squirrel-datasets-core[torchvision]) (0.2.8)\n",
            "Requirement already satisfied: entrypoints in /usr/local/lib/python3.7/dist-packages (from numcodecs>=0.6.4->zarr==2.10.3->squirrel-core[gcp,zarr]>=0.14.2->squirrel-datasets-core[torchvision]) (0.4)\n",
            "Requirement already satisfied: pyasn1<0.5.0,>=0.4.6 in /usr/local/lib/python3.7/dist-packages (from pyasn1-modules>=0.2.1->google-auth>=1.2->gcsfs>=2021.06.0->squirrel-core[gcp,zarr]>=0.14.2->squirrel-datasets-core[torchvision]) (0.4.8)\n",
            "Requirement already satisfied: idna>=2.0 in /usr/local/lib/python3.7/dist-packages (from yarl<2.0,>=1.0->aiohttp>=3.7.4->squirrel-core[gcp,zarr]>=0.14.2->squirrel-datasets-core[torchvision]) (2.10)\n",
            "Requirement already satisfied: xxhash in /usr/local/lib/python3.7/dist-packages (from datasets->squirrel-datasets-core[torchvision]) (3.0.0)\n",
            "Requirement already satisfied: packaging in /usr/local/lib/python3.7/dist-packages (from datasets->squirrel-datasets-core[torchvision]) (21.3)\n",
            "Requirement already satisfied: dill<0.3.6 in /usr/local/lib/python3.7/dist-packages (from datasets->squirrel-datasets-core[torchvision]) (0.3.5.1)\n",
            "Requirement already satisfied: pyarrow>=6.0.0 in /usr/local/lib/python3.7/dist-packages (from datasets->squirrel-datasets-core[torchvision]) (6.0.1)\n",
            "Requirement already satisfied: pandas in /usr/local/lib/python3.7/dist-packages (from datasets->squirrel-datasets-core[torchvision]) (1.3.5)\n",
            "Requirement already satisfied: huggingface-hub<1.0.0,>=0.2.0 in /usr/local/lib/python3.7/dist-packages (from datasets->squirrel-datasets-core[torchvision]) (0.10.0)\n",
            "Requirement already satisfied: responses<0.19 in /usr/local/lib/python3.7/dist-packages (from datasets->squirrel-datasets-core[torchvision]) (0.18.0)\n",
            "Requirement already satisfied: multiprocess in /usr/local/lib/python3.7/dist-packages (from datasets->squirrel-datasets-core[torchvision]) (0.70.13)\n",
            "Requirement already satisfied: importlib-metadata in /usr/local/lib/python3.7/dist-packages (from datasets->squirrel-datasets-core[torchvision]) (4.12.0)\n",
            "Requirement already satisfied: filelock in /usr/local/lib/python3.7/dist-packages (from huggingface-hub<1.0.0,>=0.2.0->datasets->squirrel-datasets-core[torchvision]) (3.8.0)\n",
            "Requirement already satisfied: pyyaml>=5.1 in /usr/local/lib/python3.7/dist-packages (from huggingface-hub<1.0.0,>=0.2.0->datasets->squirrel-datasets-core[torchvision]) (6.0)\n",
            "Requirement already satisfied: pyparsing!=3.0.5,>=2.0.2 in /usr/local/lib/python3.7/dist-packages (from packaging->datasets->squirrel-datasets-core[torchvision]) (3.0.9)\n",
            "Requirement already satisfied: chardet<4,>=3.0.2 in /usr/local/lib/python3.7/dist-packages (from requests->gcsfs>=2021.06.0->squirrel-core[gcp,zarr]>=0.14.2->squirrel-datasets-core[torchvision]) (3.0.4)\n",
            "Requirement already satisfied: urllib3!=1.25.0,!=1.25.1,<1.26,>=1.21.1 in /usr/local/lib/python3.7/dist-packages (from requests->gcsfs>=2021.06.0->squirrel-core[gcp,zarr]>=0.14.2->squirrel-datasets-core[torchvision]) (1.25.11)\n",
            "Requirement already satisfied: certifi>=2017.4.17 in /usr/local/lib/python3.7/dist-packages (from requests->gcsfs>=2021.06.0->squirrel-core[gcp,zarr]>=0.14.2->squirrel-datasets-core[torchvision]) (2022.6.15)\n",
            "Requirement already satisfied: termcolor in /usr/local/lib/python3.7/dist-packages (from fire->squirrel-datasets-core[torchvision]) (1.1.0)\n",
            "Requirement already satisfied: requests-oauthlib>=0.7.0 in /usr/local/lib/python3.7/dist-packages (from google-auth-oauthlib->gcsfs>=2021.06.0->squirrel-core[gcp,zarr]>=0.14.2->squirrel-datasets-core[torchvision]) (1.3.1)\n",
            "Requirement already satisfied: oauthlib>=3.0.0 in /usr/local/lib/python3.7/dist-packages (from requests-oauthlib>=0.7.0->google-auth-oauthlib->gcsfs>=2021.06.0->squirrel-core[gcp,zarr]>=0.14.2->squirrel-datasets-core[torchvision]) (3.2.0)\n",
            "Requirement already satisfied: google-cloud-core<2.0dev,>=1.0.0 in /usr/local/lib/python3.7/dist-packages (from google-cloud-storage->gcsfs>=2021.06.0->squirrel-core[gcp,zarr]>=0.14.2->squirrel-datasets-core[torchvision]) (1.0.3)\n",
            "Requirement already satisfied: google-resumable-media<0.5.0dev,>=0.3.1 in /usr/local/lib/python3.7/dist-packages (from google-cloud-storage->gcsfs>=2021.06.0->squirrel-core[gcp,zarr]>=0.14.2->squirrel-datasets-core[torchvision]) (0.4.1)\n",
            "Requirement already satisfied: google-api-core<2.0.0dev,>=1.14.0 in /usr/local/lib/python3.7/dist-packages (from google-cloud-core<2.0dev,>=1.0.0->google-cloud-storage->gcsfs>=2021.06.0->squirrel-core[gcp,zarr]>=0.14.2->squirrel-datasets-core[torchvision]) (1.31.6)\n",
            "Requirement already satisfied: pytz in /usr/local/lib/python3.7/dist-packages (from google-api-core<2.0.0dev,>=1.14.0->google-cloud-core<2.0dev,>=1.0.0->google-cloud-storage->gcsfs>=2021.06.0->squirrel-core[gcp,zarr]>=0.14.2->squirrel-datasets-core[torchvision]) (2022.2.1)\n",
            "Requirement already satisfied: protobuf<4.0.0dev,>=3.12.0 in /usr/local/lib/python3.7/dist-packages (from google-api-core<2.0.0dev,>=1.14.0->google-cloud-core<2.0dev,>=1.0.0->google-cloud-storage->gcsfs>=2021.06.0->squirrel-core[gcp,zarr]>=0.14.2->squirrel-datasets-core[torchvision]) (3.17.3)\n",
            "Requirement already satisfied: googleapis-common-protos<2.0dev,>=1.6.0 in /usr/local/lib/python3.7/dist-packages (from google-api-core<2.0.0dev,>=1.14.0->google-cloud-core<2.0dev,>=1.0.0->google-cloud-storage->gcsfs>=2021.06.0->squirrel-core[gcp,zarr]>=0.14.2->squirrel-datasets-core[torchvision]) (1.56.4)\n",
            "Requirement already satisfied: deeplake in /usr/local/lib/python3.7/dist-packages (from hub->squirrel-datasets-core[torchvision]) (3.0.7)\n",
            "Requirement already satisfied: humbug>=0.2.6 in /usr/local/lib/python3.7/dist-packages (from deeplake->hub->squirrel-datasets-core[torchvision]) (0.2.7)\n",
            "Requirement already satisfied: click in /usr/local/lib/python3.7/dist-packages (from deeplake->hub->squirrel-datasets-core[torchvision]) (7.1.2)\n",
            "Requirement already satisfied: libdeeplake==0.0.16 in /usr/local/lib/python3.7/dist-packages (from deeplake->hub->squirrel-datasets-core[torchvision]) (0.0.16)\n",
            "Requirement already satisfied: boto3 in /usr/local/lib/python3.7/dist-packages (from deeplake->hub->squirrel-datasets-core[torchvision]) (1.24.87)\n",
            "Requirement already satisfied: pathos in /usr/local/lib/python3.7/dist-packages (from deeplake->hub->squirrel-datasets-core[torchvision]) (0.2.9)\n",
            "Requirement already satisfied: s3transfer<0.7.0,>=0.6.0 in /usr/local/lib/python3.7/dist-packages (from boto3->deeplake->hub->squirrel-datasets-core[torchvision]) (0.6.0)\n",
            "Requirement already satisfied: botocore<1.28.0,>=1.27.87 in /usr/local/lib/python3.7/dist-packages (from boto3->deeplake->hub->squirrel-datasets-core[torchvision]) (1.27.87)\n",
            "Requirement already satisfied: jmespath<2.0.0,>=0.7.1 in /usr/local/lib/python3.7/dist-packages (from boto3->deeplake->hub->squirrel-datasets-core[torchvision]) (1.0.1)\n",
            "Requirement already satisfied: python-dateutil<3.0.0,>=2.1 in /usr/local/lib/python3.7/dist-packages (from botocore<1.28.0,>=1.27.87->boto3->deeplake->hub->squirrel-datasets-core[torchvision]) (2.8.2)\n",
            "Requirement already satisfied: zipp>=0.5 in /usr/local/lib/python3.7/dist-packages (from importlib-metadata->datasets->squirrel-datasets-core[torchvision]) (3.8.1)\n",
            "Requirement already satisfied: llvmlite<0.40,>=0.39.0dev0 in /usr/local/lib/python3.7/dist-packages (from numba->squirrel-core[gcp,zarr]>=0.14.2->squirrel-datasets-core[torchvision]) (0.39.1)\n",
            "Requirement already satisfied: pox>=0.3.1 in /usr/local/lib/python3.7/dist-packages (from pathos->deeplake->hub->squirrel-datasets-core[torchvision]) (0.3.1)\n",
            "Requirement already satisfied: ppft>=1.7.6.5 in /usr/local/lib/python3.7/dist-packages (from pathos->deeplake->hub->squirrel-datasets-core[torchvision]) (1.7.6.5)\n",
            "Requirement already satisfied: ruamel.yaml.clib>=0.2.6 in /usr/local/lib/python3.7/dist-packages (from ruamel.yaml->squirrel-core[gcp,zarr]>=0.14.2->squirrel-datasets-core[torchvision]) (0.2.6)\n",
            "Requirement already satisfied: torch==1.12.1 in /usr/local/lib/python3.7/dist-packages (from torchvision->squirrel-datasets-core[torchvision]) (1.12.1+cu113)\n",
            "Looking in indexes: https://pypi.org/simple, https://us-python.pkg.dev/colab-wheels/public/simple/\n",
            "Requirement already satisfied: gdown in /usr/local/lib/python3.7/dist-packages (4.4.0)\n",
            "Requirement already satisfied: requests[socks] in /usr/local/lib/python3.7/dist-packages (from gdown) (2.23.0)\n",
            "Requirement already satisfied: six in /usr/local/lib/python3.7/dist-packages (from gdown) (1.15.0)\n",
            "Requirement already satisfied: beautifulsoup4 in /usr/local/lib/python3.7/dist-packages (from gdown) (4.6.3)\n",
            "Requirement already satisfied: filelock in /usr/local/lib/python3.7/dist-packages (from gdown) (3.8.0)\n",
            "Requirement already satisfied: tqdm in /usr/local/lib/python3.7/dist-packages (from gdown) (4.64.1)\n",
            "Requirement already satisfied: idna<3,>=2.5 in /usr/local/lib/python3.7/dist-packages (from requests[socks]->gdown) (2.10)\n",
            "Requirement already satisfied: chardet<4,>=3.0.2 in /usr/local/lib/python3.7/dist-packages (from requests[socks]->gdown) (3.0.4)\n",
            "Requirement already satisfied: certifi>=2017.4.17 in /usr/local/lib/python3.7/dist-packages (from requests[socks]->gdown) (2022.6.15)\n",
            "Requirement already satisfied: urllib3!=1.25.0,!=1.25.1,<1.26,>=1.21.1 in /usr/local/lib/python3.7/dist-packages (from requests[socks]->gdown) (1.25.11)\n",
            "Requirement already satisfied: PySocks!=1.5.7,>=1.5.6 in /usr/local/lib/python3.7/dist-packages (from requests[socks]->gdown) (1.7.1)\n",
            "Retrieving folder list\n",
            "Processing file 1qYbnd4D2AYS6tRD9cCaGAPPINGr8rrX7 ted_test1_en-cs.raw.cs\n",
            "Processing file 1tS_Xdlj0svPtLmt7XUI4jdF9ORlv-yfs ted_test1_en-cs.raw.en\n",
            "Retrieving folder list completed\n",
            "Building directory structure\n",
            "Building directory structure completed\n",
            "Downloading...\n",
            "From: https://drive.google.com/uc?id=1qYbnd4D2AYS6tRD9cCaGAPPINGr8rrX7\n",
            "To: /content/Adapter-Onsite-Challenge/ted_test1_en-cs.raw.cs\n",
            "100% 174k/174k [00:00<00:00, 90.3MB/s]\n",
            "Downloading...\n",
            "From: https://drive.google.com/uc?id=1tS_Xdlj0svPtLmt7XUI4jdF9ORlv-yfs\n",
            "To: /content/Adapter-Onsite-Challenge/ted_test1_en-cs.raw.en\n",
            "100% 171k/171k [00:00<00:00, 92.5MB/s]\n",
            "Download completed\n"
          ]
        }
      ],
      "source": [
        "!pip install \"squirrel-core[torch]\"\n",
        "!pip install \"squirrel-datasets-core[torchvision]\"\n",
        "\n",
        "!pip install gdown\n",
        "!gdown --folder https://drive.google.com/drive/folders/1pziYQZt5xAVhuTQv00CHIiqFDDP0VYqf?usp=sharing"
      ]
    },
    {
      "cell_type": "code",
      "execution_count": null,
      "id": "8198e624",
      "metadata": {
        "id": "8198e624"
      },
      "outputs": [],
      "source": [
        "from typing import List, Dict, Tuple, Any\n",
        "from collections import defaultdict\n",
        "import more_itertools\n",
        "from pprint import pprint\n",
        "\n",
        "import torch\n",
        "\n",
        "from squirrel.iterstream.source import IterableSource\n",
        "from squirrel_datasets_core.driver.huggingface import HuggingfaceDriver"
      ]
    },
    {
      "cell_type": "markdown",
      "id": "I4YNTQjsXDZh",
      "metadata": {
        "id": "I4YNTQjsXDZh"
      },
      "source": [
        "#Dataset based on Squirrel\n",
        "\n",
        "These are just some basic functions to help you get started with the Squirrel data-loading library. You can either modify the code here or use this as a starting point and add the transformations you need using the iterstream API.\n",
        "\n",
        "We provide a small example on how the data looks like below."
      ]
    },
    {
      "cell_type": "code",
      "execution_count": null,
      "id": "WWNgDqe5XBIu",
      "metadata": {
        "id": "WWNgDqe5XBIu"
      },
      "outputs": [],
      "source": [
        "#@title\n",
        "dataset_files = {\n",
        "    'en': \"./Adapter-Onsite-Challenge/ted_test1_en-cs.raw.en\",\n",
        "    'cs': \"./Adapter-Onsite-Challenge/ted_test1_en-cs.raw.cs\"\n",
        "    #'en': \"./ted_test1_en-cs.raw.en\",\n",
        "    #'cs': \"./ted_test1_en-cs.raw.cs\"\n",
        "}\n",
        "\n",
        "def get_mttt_iterable(iso, num_samples) -> IterableSource:\n",
        "    \"\"\"\n",
        "    Returns an iterable over the MTTT TED dataset.\n",
        "\n",
        "    iso: string indicating the language ISO. Either `cs` or `en`\n",
        "    num_samples: int defining the number of samples to load into the dataset\n",
        "    \"\"\"\n",
        "    with open(dataset_files[iso]) as fh:\n",
        "        lines = [line.strip() for line in fh.readlines()[:num_samples]]\n",
        "\n",
        "    eval_dataset = IterableSource(lines)\n",
        "    return eval_dataset\n",
        "\n",
        "import random\n",
        "\n",
        "\"\"\"\n",
        "def get_mttt_iterable_both(num_samples, shuffle=True) -> IterableSource:\n",
        "  \n",
        "    #Returns an iterable over the MTTT TED dataset. Returns both CS and EN (better for shuffling purposes)\n",
        "    #num_samples: int defining the number of samples to load into the dataset\n",
        "\n",
        "    index_shuf = list(range(1982))\n",
        "    if shuffle: random.shuffle(index_shuf)\n",
        "\n",
        "    print(index_shuf)\n",
        "\n",
        "    with open(dataset_files[\"cs\"]) as fh:\n",
        "        print(len(fh.readlines()))\n",
        "        lines = [fh.readlines()[i].strip() for i in index_shuf[:num_samples]]\n",
        "    eval_dataset_cs = IterableSource(lines)\n",
        "    \n",
        "    with open(dataset_files[\"en\"]) as fh:\n",
        "        lines = [fh.readlines()[i].strip() for i in index_shuf[:num_samples]]\n",
        "    eval_dataset_en = IterableSource(lines)\n",
        "\n",
        "    return eval_dataset_cs, eval_dataset_en\n",
        "\"\"\"\n",
        "\n",
        "def get_wmt19_hf_iterable(split = 'validation') -> IterableSource:\n",
        "    \"\"\"\n",
        "    Returns an iterable over the WMT'19 dataset. More specifically the CS <> EN subset\n",
        "\n",
        "    \"\"\"\n",
        "    dataset = HuggingfaceDriver(name='wmt19', subset='cs-en', streaming=True).get_iter(split=split)\n",
        "    return dataset\n"
      ]
    },
    {
      "cell_type": "code",
      "execution_count": null,
      "id": "f3c46672",
      "metadata": {
        "colab": {
          "base_uri": "https://localhost:8080/"
        },
        "id": "f3c46672",
        "outputId": "507c1dac-960c-4c2e-f105-b408dcd6c105"
      },
      "outputs": [
        {
          "output_type": "stream",
          "name": "stdout",
          "text": [
            "[{'translation': {'cs': 'Hnutí za občanská práva vydalo cestovní výstrahu pro '\n",
            "                        'Missouri',\n",
            "                  'en': 'Civil rights group issues travel warning for '\n",
            "                        'Missouri'}},\n",
            " {'translation': {'cs': 'Národní asociace pro zvýhodňování barevných lidí '\n",
            "                        '(NAACP) zveřejnila varování pro barevné lidi '\n",
            "                        'cestující do Missouri na základě diskriminačních '\n",
            "                        'zásad státu a rasistických útoků.',\n",
            "                  'en': 'The National Association for the Advancement of '\n",
            "                        'Colored People has put out an alert for people of '\n",
            "                        \"color traveling to Missouri because of the state's \"\n",
            "                        'discriminatory policies and racist attacks.'}},\n",
            " {'translation': {'cs': '„Cestovní doporučení NAACP pro stát Missouri, s '\n",
            "                        'účinností od 28. srpna 2017, vyzývá afroamerické '\n",
            "                        'cestující, návštěvníky a obyvatele Missouri, aby při '\n",
            "                        'cestování napříč státem dbali zvýšené pozornosti v '\n",
            "                        'důsledku série sporných rasově motivovaných '\n",
            "                        'incidentů, ke kterým v současné době dochází v celém '\n",
            "                        'státu,“ stojí v prohlášení asociace.',\n",
            "                  'en': '\"The NAACP Travel Advisory for the state of Missouri, '\n",
            "                        'effective through August 28th, 2017, calls for '\n",
            "                        'African American travelers, visitors and Missourians '\n",
            "                        'to pay special attention and exercise extreme caution '\n",
            "                        'when traveling throughout the state given the series '\n",
            "                        'of questionable, race-based incidents occurring '\n",
            "                        'statewide recently, and noted therein,\" the group\\'s '\n",
            "                        'statement reads.'}},\n",
            " {'translation': {'cs': 'NAACP uvedlo, že k tomuto kroku přistoupilo na '\n",
            "                        'základě současných zákonů státu Missouri, které '\n",
            "                        'znesnadňují obhajobu rasisticky motivovaných činů '\n",
            "                        'před soudem, stejně jako v důsledku jednání orgánů '\n",
            "                        'činných v trestním řízení, které nepřiměřeně cílí na '\n",
            "                        'menšiny.',\n",
            "                  'en': 'A recent Missouri law making it harder for people to '\n",
            "                        \"win discrimination lawsuits, as well as the state's \"\n",
            "                        'law enforcement disproportionately targeting '\n",
            "                        'minorities prompted the group to issue the travel '\n",
            "                        'alert, the NAACP said.'}},\n",
            " {'translation': {'cs': '„Dochází k porušování občanských práv.',\n",
            "                  'en': '\"You have violations of civil rights that are '\n",
            "                        'happening to people.'}}]\n",
            "[\"Allison Hunt: My three minutes hasn't started yet, has it?\",\n",
            " \"Chris Anderson: No, you can't start the three minutes.\",\n",
            " \"Reset the three minutes, that's just not fair.\",\n",
            " \"AH: Oh my God, it's harsh up here.\",\n",
            " \"I mean I'm nervous enough as it is.\"]\n",
            "['Moje tři minuty ještě nezačaly, že ne?',\n",
            " 'Chris Anderson: Ne, nemůžeš začít tři minuty',\n",
            " 'Vynulovat tři minuty, to prostě není fér.',\n",
            " 'Allison Hunt: Můj bože, je to tady kruté.',\n",
            " 'Jsem dost nervózní i bez toho.']\n"
          ]
        }
      ],
      "source": [
        "#@title\n",
        "wmt19_example = (get_wmt19_hf_iterable()\n",
        "                  .take(5)\n",
        "                  .collect())\n",
        "\n",
        "\n",
        "mttt_example = (get_mttt_iterable('en', 20)\n",
        "                  .take(5)\n",
        "                  .collect())\n",
        "\n",
        "mttt_example_cs = (get_mttt_iterable('cs', 20)\n",
        "                  .take(5)\n",
        "                  .collect())\n",
        "\n",
        "\"\"\"\n",
        "print(get_mttt_iterable_both(20))\n",
        "mttt_example_both = (get_mttt_iterable_both(20)\n",
        "                  .take(5)\n",
        "                  .collect())\n",
        "\"\"\"\n",
        "\n",
        "pprint(wmt19_example)\n",
        "pprint(mttt_example)\n",
        "pprint(mttt_example_cs)"
      ]
    },
    {
      "cell_type": "markdown",
      "id": "TxG4RJbXYlol",
      "metadata": {
        "id": "TxG4RJbXYlol"
      },
      "source": [
        "# Your implementation"
      ]
    },
    {
      "cell_type": "code",
      "source": [
        "!pip install transformers\n",
        "!pip install tokenizers"
      ],
      "metadata": {
        "colab": {
          "base_uri": "https://localhost:8080/"
        },
        "id": "6XpCR8pSl_Xi",
        "outputId": "810df95d-9f20-40af-d911-3b77bc74e83c",
        "collapsed": true
      },
      "id": "6XpCR8pSl_Xi",
      "execution_count": null,
      "outputs": [
        {
          "output_type": "stream",
          "name": "stdout",
          "text": [
            "Looking in indexes: https://pypi.org/simple, https://us-python.pkg.dev/colab-wheels/public/simple/\n",
            "Requirement already satisfied: transformers in /usr/local/lib/python3.7/dist-packages (4.22.2)\n",
            "Requirement already satisfied: tokenizers!=0.11.3,<0.13,>=0.11.1 in /usr/local/lib/python3.7/dist-packages (from transformers) (0.12.1)\n",
            "Requirement already satisfied: regex!=2019.12.17 in /usr/local/lib/python3.7/dist-packages (from transformers) (2022.6.2)\n",
            "Requirement already satisfied: numpy>=1.17 in /usr/local/lib/python3.7/dist-packages (from transformers) (1.21.6)\n",
            "Requirement already satisfied: packaging>=20.0 in /usr/local/lib/python3.7/dist-packages (from transformers) (21.3)\n",
            "Requirement already satisfied: importlib-metadata in /usr/local/lib/python3.7/dist-packages (from transformers) (4.12.0)\n",
            "Requirement already satisfied: requests in /usr/local/lib/python3.7/dist-packages (from transformers) (2.23.0)\n",
            "Requirement already satisfied: pyyaml>=5.1 in /usr/local/lib/python3.7/dist-packages (from transformers) (6.0)\n",
            "Requirement already satisfied: tqdm>=4.27 in /usr/local/lib/python3.7/dist-packages (from transformers) (4.64.1)\n",
            "Requirement already satisfied: huggingface-hub<1.0,>=0.9.0 in /usr/local/lib/python3.7/dist-packages (from transformers) (0.10.0)\n",
            "Requirement already satisfied: filelock in /usr/local/lib/python3.7/dist-packages (from transformers) (3.8.0)\n",
            "Requirement already satisfied: typing-extensions>=3.7.4.3 in /usr/local/lib/python3.7/dist-packages (from huggingface-hub<1.0,>=0.9.0->transformers) (4.1.1)\n",
            "Requirement already satisfied: pyparsing!=3.0.5,>=2.0.2 in /usr/local/lib/python3.7/dist-packages (from packaging>=20.0->transformers) (3.0.9)\n",
            "Requirement already satisfied: zipp>=0.5 in /usr/local/lib/python3.7/dist-packages (from importlib-metadata->transformers) (3.8.1)\n",
            "Requirement already satisfied: certifi>=2017.4.17 in /usr/local/lib/python3.7/dist-packages (from requests->transformers) (2022.6.15)\n",
            "Requirement already satisfied: idna<3,>=2.5 in /usr/local/lib/python3.7/dist-packages (from requests->transformers) (2.10)\n",
            "Requirement already satisfied: chardet<4,>=3.0.2 in /usr/local/lib/python3.7/dist-packages (from requests->transformers) (3.0.4)\n",
            "Requirement already satisfied: urllib3!=1.25.0,!=1.25.1,<1.26,>=1.21.1 in /usr/local/lib/python3.7/dist-packages (from requests->transformers) (1.25.11)\n",
            "Looking in indexes: https://pypi.org/simple, https://us-python.pkg.dev/colab-wheels/public/simple/\n",
            "Requirement already satisfied: tokenizers in /usr/local/lib/python3.7/dist-packages (0.12.1)\n"
          ]
        }
      ]
    },
    {
      "cell_type": "code",
      "source": [
        "# Import utilities from transformers. Including the ones in modeling_bert, which we would use to define and create the adapters\n",
        "from transformers import BertConfig, BertTokenizer, pipeline, DataCollatorWithPadding\n",
        "from transformers.models.bert.modeling_bert import  BertIntermediate, BertOutput, BertLayer, BertEncoder, BertModel, BertForSequenceClassification \n",
        "#from transformers import GPT2Model, GPT2Config, GPT2Tokenizer # Not used (I tried different models at the beggining)\n",
        "#from transformers import OpenAIGPTConfig, OpenAIGPTModel, OpenAIGPTTokenizer # Not used (I tried different models at the beggining)\n",
        "\n",
        "import numpy as np # always needed"
      ],
      "metadata": {
        "id": "sNm3r6FImnDg"
      },
      "id": "sNm3r6FImnDg",
      "execution_count": null,
      "outputs": []
    },
    {
      "cell_type": "markdown",
      "source": [
        "## Define a function plotting the PCA projection of the embeddings"
      ],
      "metadata": {
        "id": "jtvbygRo5l27"
      },
      "id": "jtvbygRo5l27"
    },
    {
      "cell_type": "code",
      "source": [
        "import matplotlib.pyplot as plt\n",
        "from matplotlib import collections as mc\n",
        "import sklearn.decomposition as dc\n",
        "\n",
        "MSELoss = torch.nn.MSELoss(reduction=\"mean\")\n",
        "MSELoss_unreduced = torch.nn.MSELoss(reduction=\"none\")\n",
        "CosSim = torch.nn.CosineSimilarity()\n",
        "\n",
        "def plot_PCA_embeddings(tensor_plot, model, standardize=True, plot_segments=True, trained_pca = \"none\", return_pca = False, pooling=True, title=\"none\", save=\"NONE\"):\n",
        "\n",
        "  encoded_cs, encoded_en = tensor_plot\n",
        "\n",
        "  encoded_cs = tokenizer(cs_tensor, padding=\"max_length\", truncation=True, return_tensors=\"pt\").to(device)\n",
        "  encoded_en = tokenizer(en_tensor, padding=\"max_length\", truncation=True, return_tensors=\"pt\").to(device)\n",
        "\n",
        "  with torch.no_grad():\n",
        "    model_output_cs = model(**encoded_cs)\n",
        "    model_output_en = model(**encoded_en)\n",
        "\n",
        "  if pooling:\n",
        "      cs_embeddings = mean_pooling(model_output_cs, encoded_cs['attention_mask'])\n",
        "      en_embeddings = mean_pooling(model_output_en, encoded_en['attention_mask'])\n",
        "\n",
        "  else:\n",
        "      cs_embeddings = model_output_cs[0]\n",
        "      en_embeddings = model_output_en[0]\n",
        "\n",
        "  cpu_cs = torch.flatten(cs_embeddings.cpu(), start_dim=1)\n",
        "  cpu_en = torch.flatten(en_embeddings.cpu(), start_dim=1)\n",
        "\n",
        "  if standardize:\n",
        "    means_cs = cpu_cs.mean(dim=0, keepdim=True)\n",
        "    stds_cs = cpu_cs.std(dim=0, keepdim=True)\n",
        "    cpu_cs = (cpu_cs - means_cs) / stds_cs\n",
        "\n",
        "    means_en = cpu_en.mean(dim=0, keepdim=True)\n",
        "    stds_en = cpu_en.std(dim=0, keepdim=True)\n",
        "    cpu_en = (cpu_en - means_en) / stds_en\n",
        "\n",
        "  all = torch.cat((cpu_cs, cpu_en), 0)\n",
        "\n",
        "  if trained_pca != \"none\": \n",
        "    pca = trained_pca\n",
        "  else:\n",
        "    PCA = dc.PCA\n",
        "    pca = PCA(n_components=2)\n",
        "    pca.fit(all)\n",
        "\n",
        "  X_cs = np.transpose(pca.transform(cpu_cs))\n",
        "  X_en = np.transpose(pca.transform(cpu_en))\n",
        "\n",
        "  lines = [[(X_cs[0][i], X_cs[1][i]), (X_en[0][i], X_en[1][i])] for i in range(np.shape(X_cs)[1])]\n",
        "  lc = mc.LineCollection(lines, colors=\"r\", alpha=0.3)\n",
        "\n",
        "  fig, ax = plt.subplots(figsize=(5,5))\n",
        "  ax.scatter(X_cs[0], X_cs[1], c=\"b\", label=\"Czech\")\n",
        "  ax.scatter(X_en[0], X_en[1], c=\"y\", label=\"English\")\n",
        "  ax.set_xlabel(\"Component 1\")\n",
        "  ax.set_ylabel(\"Component 2\")\n",
        "  ax.set_aspect(\"equal\", adjustable=\"box\")\n",
        "  ax.axis(\"square\")\n",
        "\n",
        "  if plot_segments:\n",
        "    ax.add_collection(lc)\n",
        "\n",
        "  ax.legend()\n",
        "  if title == \"none\":\n",
        "    ax.set_title(\"PCA projection\")\n",
        "  else:\n",
        "    ax.set_title(title)  \n",
        "  if save != \"NONE\":\n",
        "    plt.savefig(save + \".jpg\")\n",
        "\n",
        "  plt.show()\n",
        "\n",
        "  if return_pca: return pca\n"
      ],
      "metadata": {
        "id": "9B0qfwO1jYuB"
      },
      "id": "9B0qfwO1jYuB",
      "execution_count": null,
      "outputs": []
    },
    {
      "cell_type": "markdown",
      "source": [
        "### Define a function plotting a \"confusion matrix\" (representing similarity metrics between sentences)"
      ],
      "metadata": {
        "id": "XNeRqSLE40Ei"
      },
      "id": "XNeRqSLE40Ei"
    },
    {
      "cell_type": "code",
      "source": [
        "import seaborn as sn # for plotting\n",
        "\n",
        "\n",
        "def plot_confusion_matrix(tensor_plot, model, standardize=True, loss_type=\"CosSim\", pooling=True, title=\"none\", save=\"NONE\"):\n",
        "  encoded_cs, encoded_en = tensor_plot\n",
        "\n",
        "  encoded_cs = tokenizer(cs_tensor, padding=\"max_length\", truncation=True, return_tensors=\"pt\").to(device)\n",
        "  encoded_en = tokenizer(en_tensor, padding=\"max_length\", truncation=True, return_tensors=\"pt\").to(device)\n",
        "\n",
        "  with torch.no_grad():\n",
        "    model_output_cs = model(**encoded_cs)\n",
        "    model_output_en = model(**encoded_en)\n",
        "\n",
        "  if pooling:\n",
        "      cs_embeddings = mean_pooling(model_output_cs, encoded_cs['attention_mask'])\n",
        "      en_embeddings = mean_pooling(model_output_en, encoded_en['attention_mask'])\n",
        "\n",
        "  else:\n",
        "      cs_embeddings = model_output_cs[0]\n",
        "      en_embeddings = model_output_en[0]\n",
        "\n",
        "  cpu_cs = torch.flatten(cs_embeddings.cpu(), start_dim=1)\n",
        "  cpu_en = torch.flatten(en_embeddings.cpu(), start_dim=1)\n",
        "\n",
        "  if standardize:\n",
        "    means_cs = cpu_cs.mean(dim=0, keepdim=True)\n",
        "    stds_cs = cpu_cs.std(dim=0, keepdim=True)\n",
        "    cpu_cs = (cpu_cs - means_cs) / stds_cs\n",
        "\n",
        "    means_en = cpu_en.mean(dim=0, keepdim=True)\n",
        "    stds_en = cpu_en.std(dim=0, keepdim=True)\n",
        "    cpu_en = (cpu_en - means_en) / stds_en\n",
        "\n",
        "  CM = []\n",
        "\n",
        "  if loss_type == \"CosSim\":\n",
        "    for embedding in cpu_cs:\n",
        "      dummy_cs = CosSim(embedding.unsqueeze(0), cpu_en).cpu().numpy()\n",
        "      CM.append(dummy_cs)\n",
        "\n",
        "  if loss_type == \"MSE\":\n",
        "    for embedding in cpu_cs:\n",
        "      dummy_mse = torch.mean(MSELoss_unreduced(cpu_en, embedding.unsqueeze(0)), dim=1).cpu().numpy()\n",
        "      CM.append(dummy_mse)\n",
        "\n",
        "  CM = np.array(CM)\n",
        "  print(np.shape(CM))\n",
        "\n",
        "  sn.heatmap(CM, cmap=\"Greens\")\n",
        "  if title != \"none\":\n",
        "    plt.title(title) \n",
        "\n",
        "  if save != \"NONE\":\n",
        "    plt.savefig(save + \".jpg\")\n",
        "  plt.show()"
      ],
      "metadata": {
        "id": "oPovN4D-q2ZT"
      },
      "id": "oPovN4D-q2ZT",
      "execution_count": null,
      "outputs": []
    },
    {
      "cell_type": "markdown",
      "source": [
        "### Define the performance score used (\"accuracy\" if we were to match pairs)"
      ],
      "metadata": {
        "id": "GkaGuxM78RTS"
      },
      "id": "GkaGuxM78RTS"
    },
    {
      "cell_type": "code",
      "source": [
        "def get_performance_score(tensor, model, standardize=True, loss_type=\"CosSim\", pooling=True):\n",
        "  cs_tensor, en_tensor = tensor\n",
        "  encoded_cs = tokenizer(cs_tensor, padding=\"max_length\", truncation=True, return_tensors=\"pt\").to(device)\n",
        "  encoded_en = tokenizer(en_tensor, padding=\"max_length\", truncation=True, return_tensors=\"pt\").to(device)\n",
        "\n",
        "  with torch.no_grad():\n",
        "    model_output_cs = model(**encoded_cs)\n",
        "    model_output_en = model(**encoded_en)\n",
        "\n",
        "  if pooling:\n",
        "      cs_embeddings = mean_pooling(model_output_cs, encoded_cs['attention_mask'])\n",
        "      en_embeddings = mean_pooling(model_output_en, encoded_en['attention_mask'])\n",
        "\n",
        "  else:\n",
        "      cs_embeddings = model_output_cs[0]\n",
        "      en_embeddings = model_output_en[0]\n",
        "\n",
        "  cpu_cs = torch.flatten(cs_embeddings.cpu(), start_dim=1)\n",
        "  cpu_en = torch.flatten(en_embeddings.cpu(), start_dim=1)\n",
        "\n",
        "  if standardize:\n",
        "    means_cs = cpu_cs.mean(dim=0, keepdim=True)\n",
        "    stds_cs = cpu_cs.std(dim=0, keepdim=True)\n",
        "    cpu_cs = (cpu_cs - means_cs) / stds_cs\n",
        "\n",
        "    means_en = cpu_en.mean(dim=0, keepdim=True)\n",
        "    stds_en = cpu_en.std(dim=0, keepdim=True)\n",
        "    cpu_en = (cpu_en - means_en) / stds_en\n",
        "\n",
        "  counter = 0 # Initialize the counter at 0\n",
        "\n",
        "  if loss_type == \"CosSim\":\n",
        "    for idx, embedding in enumerate(cpu_cs):\n",
        "      dummy_cs = CosSim(embedding.unsqueeze(0), cpu_en).cpu().numpy()\n",
        "      if np.argmax(dummy_cs) == idx:\n",
        "        counter+=1\n",
        "    counter = counter / cpu_en.size()[0]\n",
        "\n",
        "  if loss_type == \"MSE\":\n",
        "    for idx, embedding in enumerate(cpu_cs):\n",
        "      dummy_mse = torch.mean(MSELoss_unreduced(cpu_en, embedding.unsqueeze(0)), dim=1).cpu().numpy()\n",
        "      if np.argmin(dummy_mse) == idx:\n",
        "        counter+=1\n",
        "    counter = counter / cpu_en.size()[0]\n",
        "\n",
        "  return counter"
      ],
      "metadata": {
        "id": "pWoErXVayhs6"
      },
      "id": "pWoErXVayhs6",
      "execution_count": null,
      "outputs": []
    },
    {
      "cell_type": "markdown",
      "source": [
        "### Define the mean pooling (creating \"sentences\" embedding representations by pooling)"
      ],
      "metadata": {
        "id": "TzrZtv1-6FW8"
      },
      "id": "TzrZtv1-6FW8"
    },
    {
      "cell_type": "code",
      "source": [
        "def mean_pooling(model_output, attention_mask):\n",
        "    token_embeddings = model_output[0] #containing token embeddings\n",
        "    input_mask_expanded = attention_mask.unsqueeze(-1).expand(token_embeddings.size()).float()\n",
        "    return torch.sum(token_embeddings * input_mask_expanded, 1) / torch.clamp(input_mask_expanded.sum(1), min=1e-9)"
      ],
      "metadata": {
        "id": "QghTx8KGN7Wk"
      },
      "id": "QghTx8KGN7Wk",
      "execution_count": null,
      "outputs": []
    },
    {
      "cell_type": "markdown",
      "source": [
        "## First results"
      ],
      "metadata": {
        "id": "T_-Dstr38eEC"
      },
      "id": "T_-Dstr38eEC"
    },
    {
      "cell_type": "markdown",
      "source": [
        "### Import models and tokenizer"
      ],
      "metadata": {
        "id": "XYA84pyGemlX"
      },
      "id": "XYA84pyGemlX"
    },
    {
      "cell_type": "code",
      "source": [
        "# Choose a model label to start with\n",
        "\n",
        "model_label = \"bert-base-multilingual-cased\"\n",
        "#model_label = \"bert-base-multilingual-uncased\"\n",
        "#model_label = \"bert-large-uncased\"\n",
        "\n",
        "#model_label = \"gpt2\"\n",
        "#model_label = \"openai-gpt\"\n",
        "\n",
        "device = torch.device(\"cuda\")\n",
        "\n",
        "if model_label == \"bert-base-multilingual-uncased\" or model_label == \"bert-base-multilingual-cased\" or model_label == \"bert-large-uncased\":\n",
        "  tokenizer = BertTokenizer.from_pretrained(model_label)\n",
        "  model = BertModel.from_pretrained(model_label).to(device)\n",
        "  config = BertConfig.from_pretrained(model_label)\n",
        "\n",
        "if model_label == \"gpt2\":\n",
        "  print(\"This is not working yet! This is due to not using padding during training (needs to be done manually, have bad results. Since there are no multilingual pretrained model, not needed.\")\n",
        "  tokenizer = GPT2Tokenizer.from_pretrained(model_label)\n",
        "  if tokenizer.pad_token is None:\n",
        "    tokenizer.add_special_tokens({'pad_token': '[PAD]'})\n",
        "  model = GPT2Model.from_pretrained(model_label).to(device)\n",
        "\n",
        "if model_label == \"openai-gpt\":\n",
        "  print(\"This is not working yet! This is due to not using padding during training (needs to be done manually, have bad results. Since there are no multilingual pretrained model, not needed.\")\n",
        "  tokenizer = OpenAIGPTTokenizer.from_pretrained(\"openai-gpt\")\n",
        "  model = OpenAIGPTModel.from_pretrained(\"openai-gpt\")"
      ],
      "metadata": {
        "colab": {
          "base_uri": "https://localhost:8080/"
        },
        "id": "2eLO7vZTedbe",
        "outputId": "c2f13b40-9acf-4641-e211-5718386c12e9"
      },
      "id": "2eLO7vZTedbe",
      "execution_count": null,
      "outputs": [
        {
          "output_type": "stream",
          "name": "stderr",
          "text": [
            "Some weights of the model checkpoint at bert-base-multilingual-cased were not used when initializing BertModel: ['cls.predictions.transform.LayerNorm.bias', 'cls.predictions.transform.dense.weight', 'cls.seq_relationship.weight', 'cls.predictions.decoder.weight', 'cls.predictions.transform.LayerNorm.weight', 'cls.predictions.bias', 'cls.seq_relationship.bias', 'cls.predictions.transform.dense.bias']\n",
            "- This IS expected if you are initializing BertModel from the checkpoint of a model trained on another task or with another architecture (e.g. initializing a BertForSequenceClassification model from a BertForPreTraining model).\n",
            "- This IS NOT expected if you are initializing BertModel from the checkpoint of a model that you expect to be exactly identical (initializing a BertForSequenceClassification model from a BertForSequenceClassification model).\n"
          ]
        }
      ]
    },
    {
      "cell_type": "markdown",
      "source": [
        "### Compute embeddings"
      ],
      "metadata": {
        "id": "gZZn3sLeeqp1"
      },
      "id": "gZZn3sLeeqp1"
    },
    {
      "cell_type": "code",
      "source": [
        "cs_tensor = (get_mttt_iterable('cs', 100)\n",
        "                  #.shuffle(100)\n",
        "                  .take(20)\n",
        "                  .collect())\n",
        "en_tensor = (get_mttt_iterable('en', 100)\n",
        "                  .take(20)\n",
        "                  .collect())\n",
        "\n",
        "if model_label == \"bert-base-multilingual-uncased\" or model_label == \"bert-base-multilingual-cased\" or model_label == \"bert-large-uncased\":\n",
        "  encoded_cs = tokenizer(cs_tensor, padding=\"max_length\", truncation=True, return_tensors=\"pt\").to(device)\n",
        "  encoded_en = tokenizer(en_tensor, padding=\"max_length\", truncation=True, return_tensors=\"pt\").to(device)\n",
        "\n",
        "  with torch.no_grad():\n",
        "    model_output_cs = model(**encoded_cs)\n",
        "    model_output_en = model(**encoded_en)\n",
        "  \n",
        "  cs_embeddings = model_output_cs[0]\n",
        "  en_embeddings = model_output_en[0]\n",
        "\n",
        "  #cs_embeddings = mean_pooling(model_output_cs, encoded_cs['attention_mask'])\n",
        "  #en_embeddings = mean_pooling(model_output_en, encoded_en['attention_mask'])\n",
        "\n",
        "\n",
        "if model_label == \"gpt2\":\n",
        "  word_embeddings = model.transformer.wte.weight\n",
        "  position_embeddings = model.transformer.wpe.weight\n",
        "\n",
        "  encoded_cs = tokenizer(cs_tensor, return_tensors=\"pt\", padding=True).to(device)\n",
        "  encoded_en = tokenizer(en_tensor, return_tensors=\"pt\", padding=True).to(device)\n",
        "\n",
        "if model_label == \"openai-gpt\":\n",
        "  encoded_cs = tokenizer(cs_tensor, padding=\"max_length\", truncation=True, return_tensors=\"pt\").to(device)\n",
        "  encoded_en = tokenizer(en_tensor, padding=\"max_length\", truncation=True, return_tensors=\"pt\").to(device)\n",
        "\n",
        "  with torch.no_grad():\n",
        "    model_output_cs = model(**encoded_cs)\n",
        "    model_output_en = model(**encoded_en)\n",
        "\n",
        "  cs_embeddings = mean_pooling(model_output_cs, encoded_cs['attention_mask'])\n",
        "  en_embeddings = mean_pooling(model_output_en, encoded_en['attention_mask'])\n"
      ],
      "metadata": {
        "id": "x_T1vYMNesdd"
      },
      "id": "x_T1vYMNesdd",
      "execution_count": null,
      "outputs": []
    },
    {
      "cell_type": "markdown",
      "source": [
        "### Compute a naive similarity metric"
      ],
      "metadata": {
        "id": "_qhe8gI1e9rF"
      },
      "id": "_qhe8gI1e9rF"
    },
    {
      "cell_type": "code",
      "source": [
        "CosSim = torch.nn.CosineSimilarity()\n",
        "cossim = torch.mean(torch.abs(CosSim(cs_embeddings, en_embeddings)))\n",
        "\n",
        "print(f\"The cosine similarity is {cossim:.3f}\")\n",
        "\n",
        "MSELoss = torch.nn.MSELoss(reduction=\"mean\")\n",
        "mseloss = MSELoss(cs_embeddings, en_embeddings)\n",
        "print(f\"The MSE distance is {mseloss:.3f}\")"
      ],
      "metadata": {
        "colab": {
          "base_uri": "https://localhost:8080/"
        },
        "id": "akMoJZGoe_3F",
        "outputId": "129184fd-0007-4aae-cfa0-c8f0fc817880"
      },
      "id": "akMoJZGoe_3F",
      "execution_count": null,
      "outputs": [
        {
          "output_type": "stream",
          "name": "stdout",
          "text": [
            "The cosine similarity is 0.491\n",
            "The MSE distance is 0.218\n"
          ]
        }
      ]
    },
    {
      "cell_type": "markdown",
      "source": [
        "### Check if permuting the embeddings hurts the metrics"
      ],
      "metadata": {
        "id": "eEDeIfUMfjv2"
      },
      "id": "eEDeIfUMfjv2"
    },
    {
      "cell_type": "code",
      "source": [
        "indexes = torch.randperm(cs_embeddings.size()[0])\n",
        "\n",
        "CosSim = torch.nn.CosineSimilarity()\n",
        "cossim = torch.mean(CosSim(cs_embeddings[indexes], en_embeddings))\n",
        "print(f\"The cosine similarity is {cossim:.3f}\")\n",
        "\n",
        "MSELoss = torch.nn.MSELoss(reduction=\"mean\")\n",
        "mseloss = MSELoss(cs_embeddings[indexes], en_embeddings)\n",
        "print(f\"The MSE distance is {mseloss:.3f}\")"
      ],
      "metadata": {
        "colab": {
          "base_uri": "https://localhost:8080/"
        },
        "id": "Qrl25QSafnO9",
        "outputId": "51343abd-6bdd-4970-a588-0e093f769ef0"
      },
      "id": "Qrl25QSafnO9",
      "execution_count": null,
      "outputs": [
        {
          "output_type": "stream",
          "name": "stdout",
          "text": [
            "The cosine similarity is 0.176\n",
            "The MSE distance is 0.264\n"
          ]
        }
      ]
    },
    {
      "cell_type": "markdown",
      "source": [
        "### Plot the embeddings using PCA"
      ],
      "metadata": {
        "id": "5NkI3LYDfyy1"
      },
      "id": "5NkI3LYDfyy1"
    },
    {
      "cell_type": "code",
      "source": [
        "plot_PCA_embeddings((cs_embeddings, en_embeddings), model, standardize=False, plot_segments=False)"
      ],
      "metadata": {
        "colab": {
          "base_uri": "https://localhost:8080/",
          "height": 350
        },
        "id": "xigfrCBrf34d",
        "outputId": "080b1fc5-98b4-45fe-82c0-b0b36f2fec74"
      },
      "id": "xigfrCBrf34d",
      "execution_count": null,
      "outputs": [
        {
          "output_type": "display_data",
          "data": {
            "text/plain": [
              "<Figure size 360x360 with 1 Axes>"
            ],
            "image/png": "[encoded data removed]"
          },
          "metadata": {
            "needs_background": "light"
          }
        }
      ]
    },
    {
      "cell_type": "markdown",
      "source": [
        "Hmm.. Looks like we have the same \"shape\" but displaced. Which are the translation pairs?"
      ],
      "metadata": {
        "id": "O9XzbZAlgO2f"
      },
      "id": "O9XzbZAlgO2f"
    },
    {
      "cell_type": "code",
      "source": [
        "plot_PCA_embeddings((cs_embeddings, en_embeddings), model, standardize=False, plot_segments=True)"
      ],
      "metadata": {
        "colab": {
          "base_uri": "https://localhost:8080/",
          "height": 350
        },
        "id": "aczqYaHSgV38",
        "outputId": "f0d78efd-0dbb-48ac-d568-3b9ce604a75c"
      },
      "id": "aczqYaHSgV38",
      "execution_count": null,
      "outputs": [
        {
          "output_type": "display_data",
          "data": {
            "text/plain": [
              "<Figure size 360x360 with 1 Axes>"
            ],
            "image/png": "[encoded data removed]"
          },
          "metadata": {
            "needs_background": "light"
          }
        }
      ]
    },
    {
      "cell_type": "markdown",
      "source": [
        "Promising.. Let's standardize the czech embeddings and english ones separately"
      ],
      "metadata": {
        "id": "ined3UVDga9f"
      },
      "id": "ined3UVDga9f"
    },
    {
      "cell_type": "code",
      "source": [
        "plot_PCA_embeddings((cs_embeddings, en_embeddings), model, standardize=True, plot_segments=True)"
      ],
      "metadata": {
        "colab": {
          "base_uri": "https://localhost:8080/",
          "height": 350
        },
        "id": "Hojw8XQxgeqb",
        "outputId": "78997eeb-989e-4add-b8d5-7412471763a3"
      },
      "id": "Hojw8XQxgeqb",
      "execution_count": null,
      "outputs": [
        {
          "output_type": "display_data",
          "data": {
            "text/plain": [
              "<Figure size 360x360 with 1 Axes>"
            ],
            "image/png": "[encoded data removed]"
          },
          "metadata": {
            "needs_background": "light"
          }
        }
      ]
    },
    {
      "cell_type": "markdown",
      "source": [
        "Let's check a different representation of this, using a matrix containing the similarity metrics for cosine similarity and MSE. Both should look \"diagonal\""
      ],
      "metadata": {
        "id": "mSMCBPH6gmIN"
      },
      "id": "mSMCBPH6gmIN"
    },
    {
      "cell_type": "code",
      "source": [
        "plot_confusion_matrix((cs_embeddings, en_embeddings), model, standardize=False, loss_type=\"CosSim\")\n",
        "plot_confusion_matrix((cs_embeddings, en_embeddings), model, standardize=False, loss_type=\"MSE\")"
      ],
      "metadata": {
        "colab": {
          "base_uri": "https://localhost:8080/",
          "height": 602
        },
        "id": "Xi2oXiFogt7V",
        "outputId": "c95b97f6-12b2-43fa-cfdd-397c484d2ac1"
      },
      "id": "Xi2oXiFogt7V",
      "execution_count": null,
      "outputs": [
        {
          "output_type": "stream",
          "name": "stdout",
          "text": [
            "(20, 20)\n"
          ]
        },
        {
          "output_type": "display_data",
          "data": {
            "text/plain": [
              "<Figure size 432x288 with 2 Axes>"
            ],
            "image/png": "[encoded data removed]"
          },
          "metadata": {
            "needs_background": "light"
          }
        },
        {
          "output_type": "stream",
          "name": "stderr",
          "text": [
            "/usr/local/lib/python3.7/dist-packages/torch/nn/modules/loss.py:530: UserWarning: Using a target size (torch.Size([1, 768])) that is different to the input size (torch.Size([20, 768])). This will likely lead to incorrect results due to broadcasting. Please ensure they have the same size.\n",
            "  return F.mse_loss(input, target, reduction=self.reduction)\n"
          ]
        },
        {
          "output_type": "stream",
          "name": "stdout",
          "text": [
            "(20, 20)\n"
          ]
        },
        {
          "output_type": "display_data",
          "data": {
            "text/plain": [
              "<Figure size 432x288 with 2 Axes>"
            ],
            "image/png": "[encoded data removed]"
          },
          "metadata": {
            "needs_background": "light"
          }
        }
      ]
    },
    {
      "cell_type": "markdown",
      "source": [
        "there's some \"diagonality\" there... But what happens after standardization?"
      ],
      "metadata": {
        "id": "XAYcp8qKhLc_"
      },
      "id": "XAYcp8qKhLc_"
    },
    {
      "cell_type": "code",
      "source": [
        "plot_confusion_matrix((cs_embeddings, en_embeddings), model, standardize=True, loss_type=\"CosSim\")\n",
        "plot_confusion_matrix((cs_embeddings, en_embeddings), model, standardize=True, loss_type=\"MSE\")"
      ],
      "metadata": {
        "colab": {
          "base_uri": "https://localhost:8080/",
          "height": 548
        },
        "id": "sEVszGLDhPUm",
        "outputId": "b1c1b22a-c98d-44ea-96ec-2ed06e7d220d"
      },
      "id": "sEVszGLDhPUm",
      "execution_count": null,
      "outputs": [
        {
          "output_type": "stream",
          "name": "stdout",
          "text": [
            "(20, 20)\n"
          ]
        },
        {
          "output_type": "display_data",
          "data": {
            "text/plain": [
              "<Figure size 432x288 with 2 Axes>"
            ],
            "image/png": "[encoded data removed]"
          },
          "metadata": {
            "needs_background": "light"
          }
        },
        {
          "output_type": "stream",
          "name": "stdout",
          "text": [
            "(20, 20)\n"
          ]
        },
        {
          "output_type": "display_data",
          "data": {
            "text/plain": [
              "<Figure size 432x288 with 2 Axes>"
            ],
            "image/png": "[encoded data removed]"
          },
          "metadata": {
            "needs_background": "light"
          }
        }
      ]
    },
    {
      "cell_type": "markdown",
      "source": [
        "It looks like the Cosine Similarity matrix improves significantly after standardization. From this being diagonal, we can define an \"accuracy\" metric that, from this \"confusion matrix\", checks for each row whether the max (or min) value is the one of the diagonal."
      ],
      "metadata": {
        "id": "7dD_MpJChY7e"
      },
      "id": "7dD_MpJChY7e"
    },
    {
      "cell_type": "code",
      "source": [
        "per_score_CosSim = get_performance_score((cs_tensor, en_tensor), model, standardize=False, loss_type=\"CosSim\", pooling=True)\n",
        "per_score_MSE = get_performance_score((cs_tensor, en_tensor), model, standardize=False, loss_type=\"MSE\", pooling=True)\n",
        "\n",
        "print(f\"Performance metric with CosSim without standardization: {per_score_CosSim}. Performance metric with MSE without standardization: {per_score_MSE}\")\n",
        "# ((The warning may be quite important! I believe that broadcasting should work just fine in this case. But not 100% sure!!)) \n",
        "\n",
        "per_score_CosSim = get_performance_score((cs_tensor, en_tensor), model, standardize=True, loss_type=\"CosSim\", pooling=True)\n",
        "per_score_MSE = get_performance_score((cs_tensor, en_tensor), model, standardize=True, loss_type=\"MSE\", pooling=True)\n",
        "\n",
        "print(f\"Performance metric with CosSim after standardization: {per_score_CosSim}. Performance metric with MSE after standardization: {per_score_MSE}\")\n",
        "# ((The warning may be quite important! I believe that broadcasting should work just fine in this case. But not 100% sure!!)) "
      ],
      "metadata": {
        "colab": {
          "base_uri": "https://localhost:8080/"
        },
        "id": "9spoHQU9hr2-",
        "outputId": "14f4122b-8f14-464d-ee31-e6ef319bba1d"
      },
      "id": "9spoHQU9hr2-",
      "execution_count": null,
      "outputs": [
        {
          "output_type": "stream",
          "name": "stdout",
          "text": [
            "Performance metric with CosSim without standardization: 0.75. Performance metric with MSE without standardization: 0.5\n",
            "Performance metric with CosSim after standardization: 0.9. Performance metric with MSE after standardization: 0.75\n"
          ]
        }
      ]
    },
    {
      "cell_type": "markdown",
      "source": [
        "Nice! But we are only doing this on 20 samples... And, indeed, from samples not shuffled. Let's see what happens if we increase the number of this tensor"
      ],
      "metadata": {
        "id": "eeAlX-zfi35H"
      },
      "id": "eeAlX-zfi35H"
    },
    {
      "cell_type": "code",
      "source": [
        "#num_samples_list = [10, 20, 50, 100, 200, 500, 1000, 1500, 1982] #CUDA RUNS OUT OF MEMORY WITH AROUND 200 SAMPLES\n",
        "num_samples_list = [10, 20, 50, 100, 150]\n",
        "COSSIM_list = []\n",
        "MSE_list =  []\n",
        "\n",
        "try:\n",
        "  del cs_tensor\n",
        "  del en_tensor\n",
        "  del cs_embedding\n",
        "  del en_embedding\n",
        "  torch.cuda.empty_cache() # Emptying cache\n",
        "except: pass\n",
        "\n",
        "for num_samples in num_samples_list:\n",
        "    print(num_samples)\n",
        "    cs_tensor = (get_mttt_iterable('cs', num_samples).take(num_samples).collect())\n",
        "    en_tensor = (get_mttt_iterable('en', num_samples).take(num_samples).collect())\n",
        "\n",
        "    per_score_CosSim = get_performance_score((cs_tensor, en_tensor), model, standardize=True, loss_type=\"CosSim\", pooling=True)\n",
        "    per_score_MSE = get_performance_score((cs_tensor, en_tensor), model, standardize=True, loss_type=\"MSE\", pooling=True)\n",
        "\n",
        "    COSSIM_list.append(per_score_CosSim)\n",
        "    MSE_list.append(per_score_MSE)\n",
        "\n",
        "plt.plot(num_samples_list, COSSIM_list, label=\"CosSim\")\n",
        "plt.plot(num_samples_list, MSE_list, label=\"MSE\")\n",
        "plt.legend()\n",
        "plt.xlabel(\"Number of samples\")\n",
        "plt.ylabel(\"Accuracy\")\n",
        "plt.show()"
      ],
      "metadata": {
        "colab": {
          "base_uri": "https://localhost:8080/",
          "height": 525
        },
        "id": "JASyJWPRjWF-",
        "outputId": "26e7dc05-85cb-4a06-ad7f-d0e69513f58b"
      },
      "id": "JASyJWPRjWF-",
      "execution_count": null,
      "outputs": [
        {
          "output_type": "stream",
          "name": "stdout",
          "text": [
            "10\n"
          ]
        },
        {
          "output_type": "stream",
          "name": "stderr",
          "text": [
            "/usr/local/lib/python3.7/dist-packages/torch/nn/modules/loss.py:530: UserWarning: Using a target size (torch.Size([1, 768])) that is different to the input size (torch.Size([10, 768])). This will likely lead to incorrect results due to broadcasting. Please ensure they have the same size.\n",
            "  return F.mse_loss(input, target, reduction=self.reduction)\n"
          ]
        },
        {
          "output_type": "stream",
          "name": "stdout",
          "text": [
            "20\n",
            "50\n"
          ]
        },
        {
          "output_type": "stream",
          "name": "stderr",
          "text": [
            "/usr/local/lib/python3.7/dist-packages/torch/nn/modules/loss.py:530: UserWarning: Using a target size (torch.Size([1, 768])) that is different to the input size (torch.Size([50, 768])). This will likely lead to incorrect results due to broadcasting. Please ensure they have the same size.\n",
            "  return F.mse_loss(input, target, reduction=self.reduction)\n"
          ]
        },
        {
          "output_type": "stream",
          "name": "stdout",
          "text": [
            "100\n"
          ]
        },
        {
          "output_type": "stream",
          "name": "stderr",
          "text": [
            "/usr/local/lib/python3.7/dist-packages/torch/nn/modules/loss.py:530: UserWarning: Using a target size (torch.Size([1, 768])) that is different to the input size (torch.Size([100, 768])). This will likely lead to incorrect results due to broadcasting. Please ensure they have the same size.\n",
            "  return F.mse_loss(input, target, reduction=self.reduction)\n"
          ]
        },
        {
          "output_type": "stream",
          "name": "stdout",
          "text": [
            "150\n"
          ]
        },
        {
          "output_type": "stream",
          "name": "stderr",
          "text": [
            "/usr/local/lib/python3.7/dist-packages/torch/nn/modules/loss.py:530: UserWarning: Using a target size (torch.Size([1, 768])) that is different to the input size (torch.Size([150, 768])). This will likely lead to incorrect results due to broadcasting. Please ensure they have the same size.\n",
            "  return F.mse_loss(input, target, reduction=self.reduction)\n"
          ]
        },
        {
          "output_type": "display_data",
          "data": {
            "text/plain": [
              "<Figure size 432x288 with 1 Axes>"
            ],
            "image/png": "[encoded data removed]"
          },
          "metadata": {
            "needs_background": "light"
          }
        }
      ]
    },
    {
      "cell_type": "markdown",
      "source": [
        "Get the baselines for these metrics (already computed. Repeated here for readability):"
      ],
      "metadata": {
        "id": "PMPM6nTfqqQt"
      },
      "id": "PMPM6nTfqqQt"
    },
    {
      "cell_type": "code",
      "source": [
        "num_samples = 100\n",
        "cs_tensor = (get_mttt_iterable('cs', num_samples).take(num_samples).collect())\n",
        "en_tensor = (get_mttt_iterable('en', num_samples).take(num_samples).collect())\n",
        "\n",
        "per_score_CosSim = get_performance_score((cs_tensor, en_tensor), model, standardize=True, loss_type=\"CosSim\", pooling=True)\n",
        "per_score_MSE = get_performance_score((cs_tensor, en_tensor), model, standardize=True, loss_type=\"MSE\", pooling=True)\n",
        "\n",
        "print(f\"With standardization, the baseline metric is {per_score_CosSim:.2f} for CosSim and {per_score_MSE:.2f} for MSE\")\n",
        "\n",
        "per_score_CosSim = get_performance_score((cs_tensor, en_tensor), model, standardize=False, loss_type=\"CosSim\", pooling=True)\n",
        "per_score_MSE = get_performance_score((cs_tensor, en_tensor), model, standardize=False, loss_type=\"MSE\", pooling=True)\n",
        "\n",
        "print(f\"Without standardization, the baseline metric is {per_score_CosSim:.2f} for CosSim and {per_score_MSE:.2f} for MSE\")"
      ],
      "metadata": {
        "colab": {
          "base_uri": "https://localhost:8080/"
        },
        "id": "5NWmfjfJqtG_",
        "outputId": "439a55b4-7f73-40dd-9912-25131d0c1ad8"
      },
      "id": "5NWmfjfJqtG_",
      "execution_count": null,
      "outputs": [
        {
          "output_type": "stream",
          "name": "stdout",
          "text": [
            "With standardization, the baseline metric is 0.82 for CosSim and 0.69 for MSE\n",
            "Without standardization, the baseline metric is 0.68 for CosSim and 0.55 for MSE\n"
          ]
        }
      ]
    },
    {
      "cell_type": "markdown",
      "id": "aDvR9RsVZJNe",
      "metadata": {
        "id": "aDvR9RsVZJNe"
      },
      "source": [
        "# Finetuning with an Adapter"
      ]
    },
    {
      "cell_type": "markdown",
      "source": [
        "### Define the bottleneck adapter class"
      ],
      "metadata": {
        "id": "c3bXizsaIHZt"
      },
      "id": "c3bXizsaIHZt"
    },
    {
      "cell_type": "code",
      "source": [
        "from torch import nn \n",
        "\n",
        "class BottleneckAdapterLayer(nn.Module):\n",
        "    def __init__(self, config):\n",
        "        super().__init__()\n",
        "\n",
        "        self.adapter_input_size = config.hidden_size\n",
        "        self.adapter_latent_size = config.adapter_latent_size\n",
        "\n",
        "        # Choose nonlinearity. In this case ReLU\n",
        "        self.non_linearity = torch.relu\n",
        "\n",
        "        self.residual = config.adapter_residual\n",
        "\n",
        "        # down-project\n",
        "        self.down_proj = nn.Linear(self.adapter_input_size, self.adapter_latent_size)\n",
        "        # up-project\n",
        "        self.up_proj = nn.Linear(self.adapter_latent_size, self.adapter_input_size)\n",
        "\n",
        "        self.init_weights()\n",
        "\n",
        "    def init_weights(self):\n",
        "        \"\"\" Initialize the weights as a near-identity function \"\"\"\n",
        "        std = 0.01 # 0.02 # Standard deviation to use for initializing (should be small as we want a near-identity function)\n",
        "        self.down_proj.weight.data.normal_(mean=0.0, std=std)\n",
        "        self.down_proj.bias.data.zero_()\n",
        "        self.up_proj.weight.data.normal_(mean=0.0, std=std)\n",
        "        self.up_proj.bias.data.zero_()\n",
        "\n",
        "    def forward(self, x):\n",
        "        output = self.up_proj(self.non_linearity(self.down_proj(x)))\n",
        "        if self.residual:\n",
        "            output = x + output # residual connection (improves stability (?) I haven't tried without adding it)\n",
        "        return output"
      ],
      "metadata": {
        "id": "wVC37AeFIJGD"
      },
      "id": "wVC37AeFIJGD",
      "execution_count": null,
      "outputs": []
    },
    {
      "cell_type": "markdown",
      "source": [
        "### Define the AdapterBertModel class"
      ],
      "metadata": {
        "id": "eB8KynOQIwHd"
      },
      "id": "eB8KynOQIwHd"
    },
    {
      "cell_type": "code",
      "source": [
        "class AdapterBertIntermediate(BertIntermediate):\n",
        "    def __init__(self, config, layer_index):\n",
        "        super().__init__(config)\n",
        "        self.add_adapter = layer_index in config.layers_to_adapt and config.add_intermediate_adapter \n",
        "        # Select layers containing adapters\n",
        "        if self.add_adapter:\n",
        "            self.intermediate_adapter = BottleneckAdapterLayer(config) # add adapter layers\n",
        "\n",
        "    def forward(self, hidden_states):\n",
        "        # extend the forward function to pass through the added adapter layers\n",
        "        if self.add_adapter:\n",
        "            hidden_states = self.intermediate_adapter(hidden_states)\n",
        "        hidden_states = self.dense(hidden_states)\n",
        "        hidden_states = self.intermediate_act_fn(hidden_states)\n",
        "        return hidden_states\n",
        "\n",
        "class AdapterBertOutput(BertOutput):\n",
        "    def __init__(self, config, layer_index):\n",
        "        super().__init__(config)\n",
        "        self.add_adapter = layer_index in config.layers_to_adapt\n",
        "        if self.add_adapter:\n",
        "            self.output_adapter = BottleneckAdapterLayer(config)\n",
        "\n",
        "    def forward(self, hidden_states, input_tensor):\n",
        "        hidden_states = self.dense(hidden_states)\n",
        "        hidden_states = self.dropout(hidden_states)\n",
        "        # extend the forward operation to pass through all the new layers\n",
        "        if self.add_adapter:\n",
        "            hidden_states = self.output_adapter(hidden_states)\n",
        "        hidden_states = self.LayerNorm(hidden_states + input_tensor)\n",
        "        return hidden_states\n",
        "\n",
        "class AdapterBertLayer(BertLayer):\n",
        "    def __init__(self, config, layer_index):\n",
        "        super().__init__(config)        \n",
        "        self.intermediate = AdapterBertIntermediate(config, layer_index)\n",
        "        self.output = AdapterBertOutput(config, layer_index)\n",
        "\n",
        "class AdapterBertEncoder(BertEncoder):\n",
        "    def __init__(self, config):\n",
        "        super().__init__(config)\n",
        "        self.layer = nn.ModuleList([AdapterBertLayer(config, i) for i in range(config.num_hidden_layers)])\n",
        "\n",
        "class AdapterBertModel(BertModel):\n",
        "    def __init__(self, config):\n",
        "        super().__init__(config)\n",
        "        self.encoder = AdapterBertEncoder(config)\n",
        "        self.freeze_original_params(config)\n",
        "\n",
        "    def freeze_original_params(self, config):\n",
        "\n",
        "        # The layer norms should be trainable, so require_grad = True. In my original implementation, this does not happen\n",
        "        # these lines are supposed to help with that, but do not seem to solve the problem, and may contain errors.\n",
        "        \"\"\"\n",
        "        for name, param in self.named_parameters():\n",
        "          #print(\"Parameters name\", name)\n",
        "          #print(name[-16:], name[-14:], name[15])\n",
        "          if name[-16:] != \"LayerNorm.weight\" and name[-14:] != \"LayerNorm.bias\" and name[15] not in config.layers_to_adapt:\n",
        "            param.requires_grad = False\n",
        "        \"\"\"\n",
        "        # a better approach would also be doing something like [p for n, p in model.named_parameters() if not any(nd in n for nd in [\"LayerNorm\"])]\n",
        "\n",
        "        # Instead, do it the (wrong) old-way:\n",
        "        for param in self.parameters():\n",
        "            param.requires_grad = False\n",
        "\n",
        "        for i in range(config.num_hidden_layers):\n",
        "            if i in config.layers_to_adapt:\n",
        "                for param in self.encoder.layer[i].intermediate.intermediate_adapter.parameters():\n",
        "                    param.requires_grad = True # set require_grads to True for the adapter layers\n",
        "                for param in self.encoder.layer[i].output.output_adapter.parameters():\n",
        "                    param.requires_grad = True # set require_grads to True for the adapter layers"
      ],
      "metadata": {
        "id": "oOZZbPRJI7xr"
      },
      "id": "oOZZbPRJI7xr",
      "execution_count": null,
      "outputs": []
    },
    {
      "cell_type": "markdown",
      "source": [
        "## Define the config for the adapters"
      ],
      "metadata": {
        "id": "lXJSob4hRl-d"
      },
      "id": "lXJSob4hRl-d"
    },
    {
      "cell_type": "code",
      "source": [
        "import copy\n",
        "from transformers.data.processors import InputFeatures\n",
        "\n",
        "class AdapterBertConfig(BertConfig):\n",
        "    def __init__(self,\n",
        "        layers_to_adapt = list(range(12)),\n",
        "        #adapter_non_linearity = \"gelu\",\n",
        "        adapter_latent_size = 64,\n",
        "        **kwargs\n",
        "    ):\n",
        "        super().__init__(**kwargs)\n",
        "\n",
        "        self.layers_to_adapt = layers_to_adapt\n",
        "        self.adapter_latent_size = adapter_latent_size\n",
        "        #self.adapter_non_linearity = torch.relu #NOT JSON SERIALIZABLE! Implement it directly in the adapter\n",
        "        self.adapter_residual = True\n",
        "        self.add_intermediate_adapter = True\n",
        "\n",
        "# RunConfig runs instanciates the configuration file\n",
        "class RunConfig():\n",
        "    def __init__(self):\n",
        "        self.pretrained_transformer = 'bert-base-multilingual-cased'\n",
        "\n",
        "        self.train_batch_size = 8\n",
        "        self.learning_rate = 1e-7 #1e-18 #3e-5\n",
        "        self.weight_decay = 0.0\n",
        "        self.adam_epsilon = 1e-8\n",
        "        self.max_grad_norm = 1.0\n",
        "        self.num_train_epochs = 1 #10\n",
        "        self.max_steps = -1\n",
        "        self.warmup_steps = 0\n",
        "        self.logging_steps = 10 #5000\n",
        "        self.seed = 10\n",
        "        self.device = \"cuda\"\n",
        "\n",
        "        self.do_pooling = True\n",
        "\n",
        "        #self.last_layer_dropout = 0.2\n",
        "        #self.hidden_size = 100\n",
        " \n",
        "        # # adapter params\n",
        "        self.layers_to_adapt = list(range(8,12)) #list(range(8, 12))\n",
        "        self.adapter_latent_size = 64\n",
        "        #self.adapter_non_linearity = torch.relu #NOT JSON SERIALIZABLE!!\n",
        "        # self.adapter_residual = True\n",
        "        # self.add_intermediate_adapter = True"
      ],
      "metadata": {
        "id": "Xvu1DCLWRlQt"
      },
      "id": "Xvu1DCLWRlQt",
      "execution_count": null,
      "outputs": []
    },
    {
      "cell_type": "markdown",
      "source": [
        "### Define loss function"
      ],
      "metadata": {
        "id": "naR3WbGYSFgN"
      },
      "id": "naR3WbGYSFgN"
    },
    {
      "cell_type": "code",
      "source": [
        "MSELoss = torch.nn.MSELoss(reduction=\"mean\")\n",
        "MSELoss_unreduced = torch.nn.MSELoss(reduction=\"none\")\n",
        "CosSim = torch.nn.CosineSimilarity()\n",
        "\n",
        "def loss_function(output_cs, output_en, similarity=\"MSE\", naive=False, standardize=True):\n",
        "\n",
        "    # Idea of the loss function:\n",
        "    # If naive = True, it maximizes the similarity between aligned sentences. But this could just make that the adapter makes all the embeddings to be close\n",
        "    # If naive = False, it also takes into account non-aligned examples, by inverting the order of one of the aligned samples\n",
        "\n",
        "    # If standardize, standardizes the embeddings separately for CS/EN.\n",
        "\n",
        "    # Different similarity metrics can be used (CosSim, MSE)\n",
        "\n",
        "    if standardize:\n",
        "        means_cs = output_cs.mean(dim=0, keepdim=True)\n",
        "        stds_cs = output_cs.std(dim=0, keepdim=True)\n",
        "        output_cs = (output_cs - means_cs) / stds_cs\n",
        "\n",
        "        means_en = output_en.mean(dim=0, keepdim=True)\n",
        "        stds_en = output_en.std(dim=0, keepdim=True)\n",
        "        output_en = (output_en - means_en) / stds_en\n",
        "\n",
        "    if similarity == \"MSE\":\n",
        "        if naive:\n",
        "            mseloss = MSELoss(output_cs, output_en)\n",
        "            loss = mseloss\n",
        "        else:\n",
        "            mseloss_positive = MSELoss(output_cs, output_en)\n",
        "            mseloss_negative = MSELoss(output_cs, torch.flip(output_en, (0,))) # Change order of the array, so aligning non-translated sentences\n",
        "\n",
        "            loss = mseloss_positive - mseloss_negative\n",
        "\n",
        "    elif similarity == \"CosSim\":\n",
        "        if naive:\n",
        "            cossim = torch.mean(CosSim(output_cs, output_en))\n",
        "            loss = -cossim\n",
        "        else:\n",
        "            cossim_positive = torch.mean(CosSim(output_cs, output_en))\n",
        "            cossim_negative = torch.mean(CosSim(output_cs, torch.flip(output_en, (0,)))) # Change order of the array, so aligning non-translated sentences\n",
        "\n",
        "            loss = -cossim_positive + cossim_negative\n",
        "\n",
        "    return loss"
      ],
      "metadata": {
        "id": "I_HW2ycNSgw0"
      },
      "id": "I_HW2ycNSgw0",
      "execution_count": null,
      "outputs": []
    },
    {
      "cell_type": "markdown",
      "source": [
        "### Define trainer"
      ],
      "metadata": {
        "id": "LtbiJdWVR7a9"
      },
      "id": "LtbiJdWVR7a9"
    },
    {
      "cell_type": "code",
      "source": [
        "import os\n",
        "import random\n",
        "from tqdm import tqdm, trange\n",
        "\n",
        "from transformers import (\n",
        "    WEIGHTS_NAME,\n",
        "    AdamW,\n",
        "    get_linear_schedule_with_warmup,\n",
        ")\n",
        "\n",
        "def set_seed(seed):\n",
        "    # Set all seeds for reproducibility\n",
        "    random.seed(seed)\n",
        "    np.random.seed(seed)\n",
        "    torch.manual_seed(seed)\n",
        "    torch.cuda.manual_seed_all(seed)\n",
        "\n",
        "def prepare_optimizer_and_scheduler(model, t_total, c):\n",
        "    # Add weight decay except for bias / LayerNorm.weight\n",
        "    # (for regularization)\n",
        "    no_decay = [\"bias\", \"LayerNorm.weight\"]\n",
        "    optimizer_grouped_parameters = [\n",
        "        {\n",
        "            \"params\": [p for n, p in model.named_parameters() if not any(nd in n for nd in no_decay)],\n",
        "            \"weight_decay\": c.weight_decay,\n",
        "        },\n",
        "        {\"params\": [p for n, p in model.named_parameters() if any(nd in n for nd in no_decay)], \"weight_decay\": 0.0},\n",
        "    ]\n",
        "\n",
        "    #optimizer = AdamW(optimizer_grouped_parameters, lr=c.learning_rate, eps=c.adam_epsilon) # Recommended\n",
        "    optimizer = torch.optim.SGD(optimizer_grouped_parameters, lr=c.learning_rate) # But let's stick to a simpler one to see what happens\n",
        "    scheduler = get_linear_schedule_with_warmup(optimizer, num_warmup_steps=c.warmup_steps, num_training_steps=t_total)\n",
        "\n",
        "    return optimizer, scheduler\n",
        "\n",
        "\n",
        "def train(train_dataset, eval_dataset, model, c, len_dataloader, tensors_plot, naive_loss=False, show_pca_plots=False, show_confusion_matrix=False, \n",
        "          eval_tensor=\"none\", standardize_loss=True, pooling=True, check_gradients=False, loss_similarity=\"MSE\", reset_pca=True):\n",
        "    \"\"\" Train the model \"\"\"\n",
        "\n",
        "    if eval_tensor == \"none\": \n",
        "      pprint(\"WARNING: EVAL TENSOR SET TO TENSORS PLOT\")\n",
        "      eval_tensor = tensors_plot\n",
        "    \n",
        "    train_dataloader = train_dataset\n",
        "\n",
        "    if c.max_steps > 0:\n",
        "        t_total = c.max_steps\n",
        "        c.num_train_epochs = c.max_steps // len_dataloader + 1\n",
        "    else:\n",
        "        t_total = len_dataloader * c.num_train_epochs\n",
        "\n",
        "    # Prepare optimizer and schedule (linear warmup and decay)\n",
        "    optimizer, scheduler = prepare_optimizer_and_scheduler(model, t_total, c)\n",
        "    \n",
        "    global_step = 0\n",
        "    epochs_trained = 0\n",
        "    steps_trained_in_current_epoch = 0\n",
        "\n",
        "    tr_loss, logging_loss = 0.0, 0.0\n",
        "    model.zero_grad()\n",
        "\n",
        "    train_iterator = trange(epochs_trained, int(c.num_train_epochs), desc=\"Epoch\", disable=False)\n",
        "\n",
        "    set_seed(c.seed)  # for reproductibility, we always train with the same parameter initialization\n",
        "\n",
        "    LOGS = {}\n",
        "\n",
        "    if check_gradients:\n",
        "      GRADIENTS = {}\n",
        "\n",
        "    #print(\"Memory allocated before batch iteration\", torch.cuda.memory_allocated(device=None))\n",
        "    for _ in train_iterator:\n",
        "        #epoch_iterator = tqdm(train_dataloader, desc=\"Iteration\", disable=False)\n",
        "        #for step, batch in enumerate(epoch_iterator):\n",
        "        for step, batch in enumerate(train_dataloader):\n",
        "            # Skip past any already trained steps if resuming training\n",
        "            if step==0:\n",
        "              if show_pca_plots:\n",
        "                pca = plot_PCA_embeddings(tensors_plot, model, standardize=False, return_pca = True, title=f\"Step {step}\", save=f\"PCA_{step//10}\")\n",
        "                pca_st = plot_PCA_embeddings(tensors_plot, model, standardize=True, return_pca = True, title=f\"Step {step}\", save=f\"PCA_st_{step//10}\")\n",
        "              if show_confusion_matrix:\n",
        "                plot_confusion_matrix(tensors_plot, model, standardize=True, loss_type = \"MSE\", title=f\"Step {step}\", save=f\"CM_MSE_{step//10}\")\n",
        "                plot_confusion_matrix(tensors_plot, model, standardize=True, loss_type = \"CosSim\", title=f\"Step {step}\" , save=f\"CM_CosSim_{step//10}\")\n",
        "\n",
        "              #print(\"Performance score:\", get_performance_score(tensors_plot, model, standardize=True, loss_type=\"cossim\"))\n",
        "            elif step%10 == 0: \n",
        "              #print(\"Step\", step)\n",
        "              if show_pca_plots:\n",
        "                if reset_pca:\n",
        "                  plot_PCA_embeddings(tensors_plot, model, standardize=False, trained_pca = pca, title=f\"Step {step}\", save=f\"PCA_{step//10}\")\n",
        "                  plot_PCA_embeddings(tensors_plot, model, standardize=True, trained_pca = pca_st, title=f\"Step {step}\", save=f\"PCA_st_{step//10}\")\n",
        "                else:\n",
        "                  plot_PCA_embeddings(tensors_plot, model, standardize=False, title=f\"Step {step}\", save=f\"PCA_{step//10}\")\n",
        "                  plot_PCA_embeddings(tensors_plot, model, standardize=True,  title=f\"Step {step}\", save=f\"PCA_st_{step//10}\")\n",
        "\n",
        "              if show_confusion_matrix:\n",
        "                plot_confusion_matrix(tensors_plot, model, standardize=True, loss_type = \"MSE\", title=f\"Step {step}\", save=f\"CM__MSE_{step//10}\")\n",
        "                plot_confusion_matrix(tensors_plot, model, standardize=True, loss_type = \"CosSim\", title=f\"Step {step}\", save=f\"CM_CosSim_{step//10}\")\n",
        "              #print(\"Performance score:\", get_performance_score(tensors_plot, model, standardize=True, loss_type=\"cossim\"))\n",
        "              \n",
        "            if steps_trained_in_current_epoch > 0:\n",
        "                steps_trained_in_current_epoch -= 1\n",
        "                continue\n",
        "\n",
        "            \"\"\"\n",
        "            if check_gradients:\n",
        "              INITIAL_GRADIENTS = {}\n",
        "              for name, param in model.named_parameters():\n",
        "                INITIAL_GRADIENTS[name] = param.grad\n",
        "            \"\"\"\n",
        "\n",
        "            model.train() \n",
        "            #print(\"Memory allocated after model.train()\", torch.cuda.memory_allocated(device=None))\n",
        "\n",
        "            cs_tensor = list(map(lambda x: x[\"translation\"][\"cs\"], batch))\n",
        "            en_tensor = list(map(lambda x: x[\"translation\"][\"en\"], batch))\n",
        "\n",
        "            cs_tensor = tokenizer(cs_tensor, padding=\"max_length\", truncation=True, return_tensors=\"pt\").to(device)\n",
        "            en_tensor = tokenizer(en_tensor, padding=\"max_length\", truncation=True, return_tensors=\"pt\").to(device)\n",
        "\n",
        "            if pooling:\n",
        "                output_cs = model(**cs_tensor)\n",
        "                output_en = model(**en_tensor)\n",
        "\n",
        "                output_cs = mean_pooling(output_cs, cs_tensor['attention_mask'])\n",
        "                output_en = mean_pooling(output_en, en_tensor['attention_mask'])\n",
        "\n",
        "            else:\n",
        "              output_cs = model(**cs_tensor)[0]\n",
        "              output_en = model(**en_tensor)[0]\n",
        "\n",
        "            loss = loss_function(output_cs, output_en, similarity=loss_similarity, naive=naive_loss, standardize=standardize_loss)\n",
        "            #loss = - loss_function(output_cs, output_en, similarity=\"MSE\", naive=naive_loss, standardize=True) \n",
        "            # Something went somehow wrong, so I just changed the loss sign to see what happens\n",
        "\n",
        "            # parameter updates\n",
        "            #print(\"Memory allocated before loss backward\", torch.cuda.memory_allocated(device=None))\n",
        "            loss.backward()\n",
        "            #print(\"Memory allocated after loss backward\", torch.cuda.memory_allocated(device=None))\n",
        "\n",
        "            if check_gradients:\n",
        "              for name, param in model.named_parameters():\n",
        "                if param.requires_grad: \n",
        "                # FORGOT THE IF_REQUIRES GRAD!! If not, returning None (obviously...)\n",
        "                    #print(\"PARAM GRADIENTS\", param.grad)\n",
        "                    try: GRADIENTS[name].append(torch.norm(param.grad).cpu().numpy())\n",
        "                    except: GRADIENTS[name] = [torch.norm(param.grad).cpu().numpy()]\n",
        "                    #try: GRADIENTS[name].append(param.grad - INITIAL_GRADIENTS[name])\n",
        "                    #else: GRADIENTS[name] = param.grad\n",
        "\n",
        "            tr_loss += loss.item()\n",
        "            #torch.nn.utils.clip_grad_norm_(model.parameters(), c.max_grad_norm) # Clipping grad norm. Not using to make it simpler\n",
        "\n",
        "            optimizer.step()\n",
        "            scheduler.step()  # Update learning rate schedule\n",
        "            model.zero_grad() # zeroing gradients afer update\n",
        "\n",
        "            global_step += 1\n",
        "\n",
        "            if c.logging_steps > 0 and global_step % c.logging_steps == 0:\n",
        "                #print(\"Global step: \" + str(global_step))\n",
        "                logs = {}\n",
        "                results = evaluate(eval_tensor, model)\n",
        "                for key, value in results.items():\n",
        "                    eval_key = \"eval_{}\".format(key)\n",
        "                    logs[eval_key] = value\n",
        "\n",
        "                loss_scalar = (tr_loss - logging_loss) / c.logging_steps\n",
        "                #learning_rate_scalar = scheduler.get_lr()[0]\n",
        "                learning_rate_scalar = scheduler.get_last_lr()[0]\n",
        "                logs[\"learning_rate\"] = learning_rate_scalar\n",
        "                logs[\"step\"] = global_step\n",
        "                logs[\"loss\"] = loss_scalar\n",
        "                logging_loss = tr_loss\n",
        "\n",
        "                for key, value in logs.items():\n",
        "                    try: LOGS[key].append(value)\n",
        "                    except: LOGS[key] = [value]\n",
        "                \n",
        "            if c.max_steps > 0 and global_step > c.max_steps:\n",
        "                epoch_iterator.close()\n",
        "                break\n",
        "        \n",
        "        if (c.max_steps > 0 and global_step > c.max_steps):\n",
        "            train_iterator.close()\n",
        "            break\n",
        "    \"\"\"\n",
        "    if check_gradients: \n",
        "      for key in GRADIENTS.keys():\n",
        "          plt.plot(GRADIENTS[key], label = key)\n",
        "          plt.legend()\n",
        "      plt.show()\n",
        "    \"\"\"\n",
        "\n",
        "    if check_gradients:\n",
        "      return model, GRADIENTS, LOGS\n",
        "\n",
        "    return LOGS"
      ],
      "metadata": {
        "id": "QRu2aMOvR8gc"
      },
      "id": "QRu2aMOvR8gc",
      "execution_count": null,
      "outputs": []
    },
    {
      "cell_type": "markdown",
      "source": [
        "### Evaluate function"
      ],
      "metadata": {
        "id": "fEjOQo9k8F30"
      },
      "id": "fEjOQo9k8F30"
    },
    {
      "cell_type": "code",
      "source": [
        "def evaluate(eval_tensor, model):\n",
        "    results = {}\n",
        "    results[\"accuracy cossim\"] = get_performance_score(eval_tensor, model, standardize=True, loss_type=\"CosSim\")\n",
        "    results[\"accuracy MSE\"] = get_performance_score(eval_tensor, model, standardize=True, loss_type=\"MSE\")\n",
        "\n",
        "    results[\"accuracy cossim nostandard\"] = get_performance_score(eval_tensor, model, standardize=False, loss_type=\"CosSim\")\n",
        "    results[\"accuracy MSE nostandard\"] = get_performance_score(eval_tensor, model, standardize=False, loss_type=\"MSE\")\n",
        "\n",
        "    return results"
      ],
      "metadata": {
        "id": "ghKI2JhH8HPB"
      },
      "id": "ghKI2JhH8HPB",
      "execution_count": null,
      "outputs": []
    },
    {
      "cell_type": "markdown",
      "source": [
        "## Starting the fun"
      ],
      "metadata": {
        "id": "TL6n1m4bRzzc"
      },
      "id": "TL6n1m4bRzzc"
    },
    {
      "cell_type": "code",
      "source": [
        "# Define number of samples in dataset (ugly and unrequired! But it works and I use it)\n",
        "train_samples = 7270695 # number of training samples in the dataset\n",
        "val_samples = 2983 # number of val samples in the dataset\n",
        "\n",
        "# Define batch size and total number of samples from the subset\n",
        "batch_size = 8\n",
        "take_number = 8000  # Ugly implementation. This would basically set the number of training iterations (take_number // batch_size)\n",
        "\n",
        "NON_ADAPTER_TRAINING = False # USE FOR DEBUGGING PURPOSES (train the whole network, without adapters)\n",
        "\n",
        "device = torch.device(\"cuda\")\n",
        "model_label = \"bert-base-multilingual-cased\"\n",
        "#print(\"Memory allocated before deleting model\", torch.cuda.memory_allocated(device=None))\n",
        "try: del model\n",
        "except: pass\n",
        "#print(\"Memory allocated after deleting model\", torch.cuda.memory_allocated(device=None))\n",
        "torch.cuda.empty_cache()\n",
        "#print(\"Memory allocated after empty cache\", torch.cuda.memory_allocated(device=None))\n",
        "\n",
        "cs_tensor = (get_mttt_iterable('cs', 100).take(20).collect())\n",
        "en_tensor = (get_mttt_iterable('en', 100).take(20).collect())\n",
        "\n",
        "# Create a tensor used for the evaluation\n",
        "eval_tensor = get_wmt19_hf_iterable(split=\"validation\").shuffle(val_samples).take(100).collect()\n",
        "eval_cs = list(map(lambda x: x[\"translation\"][\"cs\"], eval_tensor))\n",
        "eval_en = list(map(lambda x: x[\"translation\"][\"en\"], eval_tensor))\n",
        "eval_tensor = (eval_cs, eval_en)\n",
        "\n",
        "c = RunConfig()\n",
        "\n",
        "if NON_ADAPTER_TRAINING:\n",
        "  tokenizer = BertTokenizer.from_pretrained(model_label)\n",
        "  config = BertConfig.from_pretrained(model_label)\n",
        "  model = BertModel.from_pretrained(model_label).to(device)\n",
        "\n",
        "else:\n",
        "  if model_label == \"bert-base-multilingual-uncased\" or model_label == \"bert-base-multilingual-cased\" or model_label == \"bert-large-uncased\":\n",
        "    tokenizer = BertTokenizer.from_pretrained(model_label)\n",
        "    #config = BottleneckAdapterBertConfig.from_pretrained(model_label)\n",
        "    config = AdapterBertConfig.from_pretrained(model_label)\n",
        "    config.layers_to_adapt = c.layers_to_adapt\n",
        "    config.adapter_latent_size = c.adapter_latent_size\n",
        "    #config.adapter_non_linearity = c.adapter_non_linearity  #IMPLEMENT THIS DIRECTLY ON THE ADAPTER NETWORK\n",
        "\n",
        "    model = AdapterBertModel.from_pretrained(model_label, config=config).to(device)\n",
        "\n",
        "train_data = get_wmt19_hf_iterable(split=\"train\").take(take_number).shuffle(train_samples).batched(batch_size)\n",
        "eval_data = get_wmt19_hf_iterable(split=\"validation\").shuffle(val_samples).batched(batch_size)\n",
        "\n",
        "# Set seed\n",
        "set_seed(c.seed)\n",
        "\n",
        "# IF CHECK_GRADIENTS, RETURNS THE MDOEL, GRADIENTS AND LOGS. ELSE, ONLY LOGS\n",
        "trained_model, gradients, logs = train(train_data, eval_data, model, c, train_samples, (cs_tensor, en_tensor), show_confusion_matrix=False, \n",
        "              eval_tensor = eval_tensor, naive_loss=True, standardize_loss=False, check_gradients = True, loss_similarity=\"MSE\")\n",
        "#             eval_tensor = eval_tensor, naive_loss=False, standardize_loss=True, check_gradients = True, loss_similarity=\"MSE\")"
      ],
      "metadata": {
        "colab": {
          "base_uri": "https://localhost:8080/"
        },
        "id": "Cmjw5OKHR1Hx",
        "outputId": "6e49ab74-cc01-4303-9192-8e7833ea3478"
      },
      "id": "Cmjw5OKHR1Hx",
      "execution_count": null,
      "outputs": [
        {
          "output_type": "stream",
          "name": "stderr",
          "text": [
            "Some weights of the model checkpoint at bert-base-multilingual-cased were not used when initializing AdapterBertModel: ['cls.predictions.transform.LayerNorm.bias', 'cls.predictions.transform.dense.weight', 'cls.seq_relationship.weight', 'cls.predictions.decoder.weight', 'cls.predictions.transform.LayerNorm.weight', 'cls.predictions.bias', 'cls.seq_relationship.bias', 'cls.predictions.transform.dense.bias']\n",
            "- This IS expected if you are initializing AdapterBertModel from the checkpoint of a model trained on another task or with another architecture (e.g. initializing a BertForSequenceClassification model from a BertForPreTraining model).\n",
            "- This IS NOT expected if you are initializing AdapterBertModel from the checkpoint of a model that you expect to be exactly identical (initializing a BertForSequenceClassification model from a BertForSequenceClassification model).\n",
            "Some weights of AdapterBertModel were not initialized from the model checkpoint at bert-base-multilingual-cased and are newly initialized: ['bert.encoder.layer.9.output.output_adapter.down_proj.weight', 'bert.encoder.layer.10.output.output_adapter.down_proj.bias', 'bert.encoder.layer.11.output.output_adapter.down_proj.bias', 'bert.encoder.layer.11.output.output_adapter.up_proj.weight', 'bert.encoder.layer.9.intermediate.intermediate_adapter.down_proj.weight', 'bert.encoder.layer.9.output.output_adapter.up_proj.weight', 'bert.encoder.layer.11.output.output_adapter.up_proj.bias', 'bert.encoder.layer.10.intermediate.intermediate_adapter.down_proj.bias', 'bert.encoder.layer.10.intermediate.intermediate_adapter.up_proj.weight', 'bert.encoder.layer.9.intermediate.intermediate_adapter.up_proj.bias', 'bert.encoder.layer.9.output.output_adapter.up_proj.bias', 'bert.encoder.layer.11.intermediate.intermediate_adapter.down_proj.bias', 'bert.encoder.layer.8.intermediate.intermediate_adapter.down_proj.weight', 'bert.encoder.layer.11.intermediate.intermediate_adapter.up_proj.weight', 'bert.encoder.layer.8.intermediate.intermediate_adapter.up_proj.bias', 'bert.encoder.layer.11.intermediate.intermediate_adapter.down_proj.weight', 'bert.encoder.layer.10.output.output_adapter.down_proj.weight', 'bert.encoder.layer.8.output.output_adapter.down_proj.weight', 'bert.encoder.layer.8.output.output_adapter.down_proj.bias', 'bert.encoder.layer.8.intermediate.intermediate_adapter.up_proj.weight', 'bert.encoder.layer.9.output.output_adapter.down_proj.bias', 'bert.encoder.layer.8.intermediate.intermediate_adapter.down_proj.bias', 'bert.encoder.layer.8.output.output_adapter.up_proj.bias', 'bert.encoder.layer.8.output.output_adapter.up_proj.weight', 'bert.encoder.layer.11.intermediate.intermediate_adapter.up_proj.bias', 'bert.encoder.layer.11.output.output_adapter.down_proj.weight', 'bert.encoder.layer.10.output.output_adapter.up_proj.bias', 'bert.encoder.layer.10.intermediate.intermediate_adapter.down_proj.weight', 'bert.encoder.layer.10.intermediate.intermediate_adapter.up_proj.bias', 'bert.encoder.layer.10.output.output_adapter.up_proj.weight', 'bert.encoder.layer.9.intermediate.intermediate_adapter.up_proj.weight', 'bert.encoder.layer.9.intermediate.intermediate_adapter.down_proj.bias']\n",
            "You should probably TRAIN this model on a down-stream task to be able to use it for predictions and inference.\n",
            "Epoch:   0%|          | 0/1 [00:00<?, ?it/s]WARNING:datasets_modules.datasets.wmt19.29e210fae5690e843cae5dc43b53db36c4e02f927db50cd5235a22ab42dde90a.wmt_utils:Skipping line 606 in TSV (gzip://europarl-v9.cs-en.tsv::https://huggingface.co/datasets/wmt/europarl/resolve/main/v9/training/europarl-v9.cs-en.tsv.gz) with 3 != 2 columns.\n",
            "WARNING:datasets_modules.datasets.wmt19.29e210fae5690e843cae5dc43b53db36c4e02f927db50cd5235a22ab42dde90a.wmt_utils:Skipping line 608 in TSV (gzip://europarl-v9.cs-en.tsv::https://huggingface.co/datasets/wmt/europarl/resolve/main/v9/training/europarl-v9.cs-en.tsv.gz) with 3 != 2 columns.\n",
            "Epoch: 100%|██████████| 1/1 [30:31<00:00, 1831.81s/it]\n"
          ]
        }
      ]
    },
    {
      "cell_type": "markdown",
      "source": [
        "## Plot the evolution of the gradient norms"
      ],
      "metadata": {
        "id": "UvhWWiqQ84w6"
      },
      "id": "UvhWWiqQ84w6"
    },
    {
      "cell_type": "code",
      "source": [
        "color_dict = {8: \"r\", 9: \"g\", 10 : \"b\", 11 : \"k\", 'embeddings.LayerNorm.weight' : \"y\", 'embeddings.LayerNorm.bias' : \"pink\"}\n",
        "\n",
        "for key in gradients.keys():\n",
        "    try:\n",
        "      try:\n",
        "        n_layer = int(key[14:16])\n",
        "      except:\n",
        "        n_layer = int(key[14])\n",
        "    except:\n",
        "      n_layer = key\n",
        "\n",
        "    c = color_dict[n_layer]\n",
        "\n",
        "    plt.plot(gradients[key], c=c, label = n_layer)\n",
        "    handles, labels = plt.gca().get_legend_handles_labels()\n",
        "    by_label = dict(zip(labels, handles))\n",
        "    #plt.plot(gradients[key], c=c, label = key)\n",
        "    plt.legend(by_label.values(), by_label.keys(), bbox_to_anchor=(1.05, 0.55), title=\"Layer\")\n",
        "    plt.title(\"Gradient norms\")\n",
        "    plt.xlabel((\"Training iteration\"))\n",
        "    plt.ylabel(\"Gradient norm\")\n",
        "plt.show()"
      ],
      "metadata": {
        "colab": {
          "base_uri": "https://localhost:8080/",
          "height": 295
        },
        "id": "MIH64KlV6VUQ",
        "outputId": "927c28b6-5cd7-4d55-b3ff-ad62eab04435"
      },
      "id": "MIH64KlV6VUQ",
      "execution_count": null,
      "outputs": [
        {
          "output_type": "display_data",
          "data": {
            "text/plain": [
              "<Figure size 432x288 with 1 Axes>"
            ],
            "image/png": "[encoded data removed]"
          },
          "metadata": {
            "needs_background": "light"
          }
        }
      ]
    },
    {
      "cell_type": "code",
      "source": [
        "print(logs)"
      ],
      "metadata": {
        "colab": {
          "base_uri": "https://localhost:8080/"
        },
        "id": "I0R1gLALN9xk",
        "outputId": "0a8fe96e-ed9f-49d0-8e64-cf661c7daea4"
      },
      "id": "I0R1gLALN9xk",
      "execution_count": null,
      "outputs": [
        {
          "output_type": "stream",
          "name": "stdout",
          "text": [
            "{'eval_accuracy cossim': [0.77, 0.82, 0.74, 0.8, 0.72, 0.75, 0.77, 0.79, 0.82, 0.79, 0.74, 0.77, 0.78, 0.85, 0.81, 0.8, 0.82, 0.85, 0.78, 0.78, 0.76, 0.8, 0.78, 0.78, 0.75, 0.8, 0.77, 0.77, 0.8, 0.77, 0.78, 0.81, 0.8, 0.82, 0.84, 0.81, 0.82, 0.77, 0.78, 0.81, 0.77, 0.85, 0.68, 0.82, 0.77, 0.77, 0.77, 0.77, 0.76, 0.77, 0.77, 0.8, 0.75, 0.73, 0.77, 0.73, 0.86, 0.82, 0.8, 0.79, 0.76, 0.78, 0.79, 0.78, 0.89, 0.8, 0.75, 0.8, 0.82, 0.77, 0.8, 0.81, 0.77, 0.84, 0.78, 0.75, 0.77, 0.78, 0.76, 0.74, 0.79, 0.84, 0.8, 0.76, 0.78, 0.81, 0.79, 0.83, 0.76, 0.72, 0.82, 0.81, 0.73, 0.85, 0.74, 0.85, 0.83, 0.82, 0.77, 0.72], 'eval_accuracy MSE': [0.64, 0.69, 0.62, 0.68, 0.61, 0.67, 0.57, 0.68, 0.63, 0.61, 0.64, 0.62, 0.59, 0.66, 0.58, 0.66, 0.64, 0.58, 0.62, 0.67, 0.67, 0.69, 0.65, 0.63, 0.66, 0.69, 0.63, 0.58, 0.61, 0.63, 0.64, 0.6, 0.65, 0.56, 0.57, 0.61, 0.61, 0.6, 0.68, 0.63, 0.62, 0.59, 0.56, 0.65, 0.6, 0.62, 0.64, 0.6, 0.62, 0.56, 0.58, 0.66, 0.68, 0.6, 0.68, 0.61, 0.65, 0.65, 0.65, 0.58, 0.57, 0.59, 0.58, 0.64, 0.59, 0.59, 0.65, 0.57, 0.63, 0.64, 0.64, 0.66, 0.58, 0.64, 0.68, 0.62, 0.65, 0.57, 0.58, 0.63, 0.63, 0.65, 0.59, 0.66, 0.62, 0.61, 0.66, 0.61, 0.63, 0.61, 0.63, 0.59, 0.65, 0.6, 0.68, 0.62, 0.6, 0.58, 0.69, 0.63], 'eval_accuracy cossim nostandard': [0.62, 0.59, 0.55, 0.63, 0.57, 0.62, 0.59, 0.52, 0.64, 0.59, 0.57, 0.64, 0.52, 0.66, 0.55, 0.6, 0.62, 0.62, 0.59, 0.52, 0.58, 0.58, 0.61, 0.59, 0.57, 0.64, 0.65, 0.65, 0.61, 0.58, 0.62, 0.49, 0.54, 0.56, 0.51, 0.63, 0.58, 0.55, 0.68, 0.71, 0.57, 0.53, 0.58, 0.59, 0.56, 0.51, 0.6, 0.56, 0.58, 0.52, 0.6, 0.57, 0.63, 0.71, 0.59, 0.65, 0.58, 0.59, 0.61, 0.64, 0.61, 0.59, 0.57, 0.56, 0.66, 0.58, 0.59, 0.64, 0.58, 0.68, 0.59, 0.6, 0.64, 0.54, 0.65, 0.5, 0.64, 0.58, 0.57, 0.59, 0.58, 0.63, 0.6, 0.6, 0.58, 0.59, 0.57, 0.62, 0.58, 0.58, 0.65, 0.66, 0.62, 0.62, 0.53, 0.6, 0.54, 0.52, 0.61, 0.63], 'eval_accuracy MSE nostandard': [0.15, 0.23, 0.22, 0.2, 0.28, 0.24, 0.25, 0.19, 0.24, 0.42, 0.34, 0.43, 0.2, 0.34, 0.28, 0.41, 0.4, 0.21, 0.31, 0.25, 0.34, 0.15, 0.33, 0.41, 0.42, 0.22, 0.42, 0.36, 0.42, 0.22, 0.28, 0.24, 0.32, 0.42, 0.35, 0.34, 0.26, 0.29, 0.41, 0.3, 0.25, 0.33, 0.34, 0.45, 0.18, 0.24, 0.3, 0.31, 0.34, 0.2, 0.24, 0.33, 0.22, 0.19, 0.26, 0.33, 0.4, 0.27, 0.47, 0.4, 0.2, 0.22, 0.21, 0.49, 0.2, 0.18, 0.3, 0.37, 0.24, 0.3, 0.36, 0.17, 0.43, 0.18, 0.15, 0.4, 0.3, 0.36, 0.27, 0.24, 0.24, 0.37, 0.45, 0.33, 0.37, 0.41, 0.39, 0.33, 0.41, 0.35, 0.17, 0.25, 0.44, 0.39, 0.26, 0.4, 0.16, 0.2, 0.17, 0.29], 'learning_rate': [9.99998624615666e-08, 9.999972492313319e-08, 9.999958738469982e-08, 9.999944984626642e-08, 9.999931230783302e-08, 9.999917476939962e-08, 9.999903723096623e-08, 9.999889969253283e-08, 9.999876215409944e-08, 9.999862461566604e-08, 9.999848707723264e-08, 9.999834953879925e-08, 9.999821200036585e-08, 9.999807446193245e-08, 9.999793692349906e-08, 9.999779938506566e-08, 9.999766184663227e-08, 9.999752430819887e-08, 9.999738676976547e-08, 9.999724923133207e-08, 9.999711169289868e-08, 9.999697415446529e-08, 9.999683661603189e-08, 9.999669907759849e-08, 9.999656153916509e-08, 9.999642400073171e-08, 9.999628646229831e-08, 9.999614892386491e-08, 9.999601138543151e-08, 9.999587384699812e-08, 9.999573630856472e-08, 9.999559877013133e-08, 9.999546123169793e-08, 9.999532369326453e-08, 9.999518615483114e-08, 9.999504861639774e-08, 9.999491107796434e-08, 9.999477353953095e-08, 9.999463600109755e-08, 9.999449846266416e-08, 9.999436092423076e-08, 9.999422338579736e-08, 9.999408584736397e-08, 9.999394830893057e-08, 9.999381077049718e-08, 9.999367323206378e-08, 9.999353569363038e-08, 9.999339815519698e-08, 9.99932606167636e-08, 9.99931230783302e-08, 9.99929855398968e-08, 9.99928480014634e-08, 9.999271046303e-08, 9.999257292459661e-08, 9.999243538616322e-08, 9.999229784772982e-08, 9.999216030929642e-08, 9.999202277086303e-08, 9.999188523242963e-08, 9.999174769399623e-08, 9.999161015556284e-08, 9.999147261712944e-08, 9.999133507869605e-08, 9.999119754026265e-08, 9.999106000182925e-08, 9.999092246339586e-08, 9.999078492496246e-08, 9.999064738652907e-08, 9.999050984809567e-08, 9.999037230966227e-08, 9.999023477122887e-08, 9.999009723279548e-08, 9.99899596943621e-08, 9.99898221559287e-08, 9.998968461749529e-08, 9.998954707906189e-08, 9.99894095406285e-08, 9.998927200219512e-08, 9.998913446376171e-08, 9.998899692532831e-08, 9.998885938689493e-08, 9.998872184846152e-08, 9.998858431002812e-08, 9.998844677159474e-08, 9.998830923316133e-08, 9.998817169472795e-08, 9.998803415629455e-08, 9.998789661786114e-08, 9.998775907942776e-08, 9.998762154099435e-08, 9.998748400256097e-08, 9.998734646412757e-08, 9.998720892569416e-08, 9.998707138726076e-08, 9.998693384882738e-08, 9.998679631039399e-08, 9.998665877196059e-08, 9.998652123352719e-08, 9.998638369509378e-08, 9.99862461566604e-08], 'step': [10, 20, 30, 40, 50, 60, 70, 80, 90, 100, 110, 120, 130, 140, 150, 160, 170, 180, 190, 200, 210, 220, 230, 240, 250, 260, 270, 280, 290, 300, 310, 320, 330, 340, 350, 360, 370, 380, 390, 400, 410, 420, 430, 440, 450, 460, 470, 480, 490, 500, 510, 520, 530, 540, 550, 560, 570, 580, 590, 600, 610, 620, 630, 640, 650, 660, 670, 680, 690, 700, 710, 720, 730, 740, 750, 760, 770, 780, 790, 800, 810, 820, 830, 840, 850, 860, 870, 880, 890, 900, 910, 920, 930, 940, 950, 960, 970, 980, 990, 1000], 'loss': [0.11956061720848084, 0.12049967050552368, 0.11877369359135628, 0.1170453518629074, 0.12346125543117523, 0.11369947716593742, 0.1139656700193882, 0.11713506355881691, 0.11228308156132698, 0.11732780411839486, 0.12009879723191261, 0.1149381585419178, 0.11482100188732147, 0.11735343113541603, 0.11564359217882156, 0.11625368222594261, 0.11862008944153786, 0.11725023314356804, 0.11702075004577636, 0.11621198132634163, 0.11269063502550125, 0.10955557376146316, 0.11666520684957504, 0.11304322257637978, 0.11305254921317101, 0.11239791885018349, 0.11177459061145782, 0.11321610808372498, 0.10899912267923355, 0.11345629766583443, 0.1130140632390976, 0.11138646304607391, 0.11856858506798744, 0.11067314669489861, 0.11834035068750381, 0.11220539212226868, 0.11859135255217552, 0.11086183488368988, 0.11797657012939453, 0.11162598207592964, 0.11308851167559623, 0.11360595598816872, 0.11336111873388291, 0.1128138393163681, 0.11899795532226562, 0.11435016915202141, 0.11506853550672531, 0.11579449772834778, 0.1181068055331707, 0.11728602945804596, 0.11521664634346962, 0.1160790354013443, 0.1136256754398346, 0.11307541579008103, 0.1164929524064064, 0.11375384107232094, 0.1208916425704956, 0.11672638654708863, 0.11354315057396888, 0.11869482472538948, 0.11682154983282089, 0.11740450039505959, 0.11664593815803528, 0.11637423485517502, 0.1158287912607193, 0.11547445654869079, 0.1144629679620266, 0.11864238232374191, 0.11584941893815995, 0.11852984651923179, 0.12066187411546707, 0.12024758756160736, 0.11719289198517799, 0.1128350980579853, 0.11859603747725486, 0.11744961887598038, 0.11645980551838875, 0.11881323605775833, 0.1168847106397152, 0.116001957654953, 0.11780656948685646, 0.11374985575675964, 0.11471701934933662, 0.11540023759007453, 0.11650838330388069, 0.11750578582286834, 0.1187568873167038, 0.11758450716733933, 0.12083314880728721, 0.11529993712902069, 0.11257757693529129, 0.11493436917662621, 0.11826322749257087, 0.11582333147525788, 0.11759517267346382, 0.11123428493738174, 0.11502755433320999, 0.11576420590281486, 0.11368292719125747, 0.11829255297780036]}\n"
          ]
        }
      ]
    },
    {
      "cell_type": "markdown",
      "source": [
        "## Plot the accuracies evolution"
      ],
      "metadata": {
        "id": "QbWHnaGH88ZC"
      },
      "id": "QbWHnaGH88ZC"
    },
    {
      "cell_type": "code",
      "source": [
        "fig, ax = plt.subplots(1,2,figsize=(10,5))\n",
        "ax[0].plot(logs[\"step\"], logs[\"eval_accuracy cossim\"], c=\"b\", label=\"CosSim\")\n",
        "ax[0].plot(logs[\"step\"], logs[\"eval_accuracy MSE\"], c=\"r\", label=\"MSE\")\n",
        "#ax[0].legend()\n",
        "ax[0].set_title(\"Accuracy scores (standardized)\")\n",
        "ax[0].set_xlabel(\"Training iteration\")\n",
        "ax[0].set_ylabel(\"Accuracy\")\n",
        "\n",
        "ax[1].plot(logs[\"step\"], logs[\"eval_accuracy cossim nostandard\"], c=\"b\", label=\"CosSim\")\n",
        "ax[1].plot(logs[\"step\"], logs[\"eval_accuracy MSE nostandard\"], c=\"r\", label=\"MSE\")\n",
        "ax[1].legend()\n",
        "ax[1].legend(bbox_to_anchor=(1.05, 0.55))\n",
        "ax[1].set_title(\"Accuracy scores (non-standardized)\")\n",
        "ax[1].set_xlabel(\"Training iteration\")\n",
        "#ax.set_ylabel(\"Accuracy\")\n",
        "\n",
        "plt.show()"
      ],
      "metadata": {
        "colab": {
          "base_uri": "https://localhost:8080/",
          "height": 350
        },
        "id": "F35Lxcy7pIlV",
        "outputId": "800b6cae-24f9-4ecb-d258-356d12ae9c30"
      },
      "id": "F35Lxcy7pIlV",
      "execution_count": null,
      "outputs": [
        {
          "output_type": "display_data",
          "data": {
            "text/plain": [
              "<Figure size 720x360 with 2 Axes>"
            ],
            "image/png": "[encoded data removed]"
          },
          "metadata": {
            "needs_background": "light"
          }
        }
      ]
    },
    {
      "cell_type": "markdown",
      "source": [
        "## Plot the loss evolution"
      ],
      "metadata": {
        "id": "hC2mjHAi8_PK"
      },
      "id": "hC2mjHAi8_PK"
    },
    {
      "cell_type": "code",
      "source": [
        "fig, ax = plt.subplots(figsize=(5,5))\n",
        "ax.plot(logs[\"step\"], logs[\"loss\"], c=\"b\")\n",
        "#ax[0].legend()\n",
        "ax.set_title(\"Loss history\")\n",
        "ax.set_xlabel(\"Training iteration\")\n",
        "ax.set_ylabel(\"Loss\")\n",
        "plt.show()"
      ],
      "metadata": {
        "colab": {
          "base_uri": "https://localhost:8080/",
          "height": 350
        },
        "id": "VfklLzxcaK1f",
        "outputId": "79036249-2e8b-4711-d3fd-64a30334649c"
      },
      "id": "VfklLzxcaK1f",
      "execution_count": null,
      "outputs": [
        {
          "output_type": "display_data",
          "data": {
            "text/plain": [
              "<Figure size 360x360 with 1 Axes>"
            ],
            "image/png": "[encoded data removed]"
          },
          "metadata": {
            "needs_background": "light"
          }
        }
      ]
    },
    {
      "cell_type": "markdown",
      "source": [
        "## Print number of trainable parameters"
      ],
      "metadata": {
        "id": "Ey91563A9DMy"
      },
      "id": "Ey91563A9DMy"
    },
    {
      "cell_type": "code",
      "source": [
        "pytorch_total_params = sum(p.numel() for p in model.parameters())\n",
        "pytorch_trainable_params = sum(p.numel() for p in model.parameters() if p.requires_grad)\n",
        "\n",
        "print(\"Total number of parameters\", pytorch_total_params)\n",
        "print(\"Number of trainable parameters\", pytorch_trainable_params)\n",
        "\n",
        "print(f\"Trainable parameters fraction {100*pytorch_trainable_params / pytorch_total_params:.2f}%\")"
      ],
      "metadata": {
        "colab": {
          "base_uri": "https://localhost:8080/"
        },
        "id": "Uovvzx_oXPbV",
        "outputId": "26188f9c-3af5-4b4e-f0d7-e43d8083391b"
      },
      "id": "Uovvzx_oXPbV",
      "execution_count": null,
      "outputs": [
        {
          "output_type": "stream",
          "name": "stdout",
          "text": [
            "Total number of parameters 178646528\n",
            "Number of trainable parameters 793088\n",
            "Trainable parameters fraction 0.44%\n"
          ]
        }
      ]
    },
    {
      "cell_type": "markdown",
      "source": [
        "## Plot PCA evolution"
      ],
      "metadata": {
        "id": "sEi4esFN9lc6"
      },
      "id": "sEi4esFN9lc6"
    },
    {
      "cell_type": "code",
      "source": [
        "batch_size = 8\n",
        "take_number = 8000  # Ugly implementation. This would basically set the number of training iterations (take_number // batch_size)\n",
        "\n",
        "NON_ADAPTER_TRAINING = False # USE FOR DEBUGGING PURPOSES (train the whole network, without adapters)\n",
        "\n",
        "device = torch.device(\"cuda\")\n",
        "model_label = \"bert-base-multilingual-cased\"\n",
        "#print(\"Memory allocated before deleting model\", torch.cuda.memory_allocated(device=None))\n",
        "try: del model\n",
        "except: pass\n",
        "#print(\"Memory allocated after deleting model\", torch.cuda.memory_allocated(device=None))\n",
        "torch.cuda.empty_cache()\n",
        "#print(\"Memory allocated after empty cache\", torch.cuda.memory_allocated(device=None))\n",
        "\n",
        "cs_tensor = (get_mttt_iterable('cs', 100).take(20).collect())\n",
        "en_tensor = (get_mttt_iterable('en', 100).take(20).collect())\n",
        "\n",
        "# Create a tensor used for the evaluation\n",
        "eval_tensor = get_wmt19_hf_iterable(split=\"validation\").shuffle(val_samples).take(100).collect()\n",
        "eval_cs = list(map(lambda x: x[\"translation\"][\"cs\"], eval_tensor))\n",
        "eval_en = list(map(lambda x: x[\"translation\"][\"en\"], eval_tensor))\n",
        "eval_tensor = (eval_cs, eval_en)\n",
        "\n",
        "c = RunConfig()\n",
        "\n",
        "if NON_ADAPTER_TRAINING:\n",
        "  tokenizer = BertTokenizer.from_pretrained(model_label)\n",
        "  config = BertConfig.from_pretrained(model_label)\n",
        "  model = BertModel.from_pretrained(model_label).to(device)\n",
        "\n",
        "else:\n",
        "  if model_label == \"bert-base-multilingual-uncased\" or model_label == \"bert-base-multilingual-cased\" or model_label == \"bert-large-uncased\":\n",
        "    tokenizer = BertTokenizer.from_pretrained(model_label)\n",
        "    #config = BottleneckAdapterBertConfig.from_pretrained(model_label)\n",
        "    config = AdapterBertConfig.from_pretrained(model_label)\n",
        "    config.layers_to_adapt = c.layers_to_adapt\n",
        "    config.adapter_latent_size = c.adapter_latent_size\n",
        "    #config.adapter_non_linearity = c.adapter_non_linearity  #IMPLEMENT THIS DIRECTLY ON THE ADAPTER NETWORK\n",
        "\n",
        "    model = AdapterBertModel.from_pretrained(model_label, config=config).to(device)\n",
        "\n",
        "train_data = get_wmt19_hf_iterable(split=\"train\").take(take_number).shuffle(train_samples).batched(batch_size)\n",
        "eval_data = get_wmt19_hf_iterable(split=\"validation\").shuffle(val_samples).batched(batch_size)\n",
        "\n",
        "# Set seed\n",
        "set_seed(c.seed)\n",
        "\n",
        "trained_model, gradients, logs = train(train_data, eval_data, model, c, train_samples, (cs_tensor, en_tensor), show_pca_plots=True, show_confusion_matrix=True,\n",
        "              eval_tensor = eval_tensor, naive_loss=False, standardize_loss=True, check_gradients = True, loss_similarity=\"CosSim\", reset_pca=False) \n",
        "             #eval_tensor = eval_tensor, naive_loss=False, standardize_loss=True, check_gradients = True, loss_similarity=\"MSE\")"
      ],
      "metadata": {
        "id": "hGOn187Y9spr"
      },
      "id": "hGOn187Y9spr",
      "execution_count": null,
      "outputs": []
    },
    {
      "cell_type": "code",
      "source": [
        "fig, ax = plt.subplots(1,2,figsize=(10,5))\n",
        "ax[0].plot(logs[\"step\"], logs[\"eval_accuracy cossim\"], c=\"b\", label=\"CosSim\")\n",
        "ax[0].plot(logs[\"step\"], logs[\"eval_accuracy MSE\"], c=\"r\", label=\"MSE\")\n",
        "#ax[0].legend()\n",
        "ax[0].set_title(\"Accuracy scores (standardized)\")\n",
        "ax[0].set_xlabel(\"Training iteration\")\n",
        "ax[0].set_ylabel(\"Accuracy\")\n",
        "\n",
        "ax[1].plot(logs[\"step\"], logs[\"eval_accuracy cossim nostandard\"], c=\"b\", label=\"CosSim\")\n",
        "ax[1].plot(logs[\"step\"], logs[\"eval_accuracy MSE nostandard\"], c=\"r\", label=\"MSE\")\n",
        "ax[1].legend()\n",
        "ax[1].legend(bbox_to_anchor=(1.05, 0.55))\n",
        "ax[1].set_title(\"Accuracy scores (non-standardized)\")\n",
        "ax[1].set_xlabel(\"Training iteration\")\n",
        "#ax.set_ylabel(\"Accuracy\")\n",
        "\n",
        "plt.show()"
      ],
      "metadata": {
        "id": "SJ-TeDIoDdUc"
      },
      "id": "SJ-TeDIoDdUc",
      "execution_count": null,
      "outputs": []
    }
  ],
  "metadata": {
    "colab": {
      "provenance": [],
      "machine_shape": "hm",
      "include_colab_link": true
    },
    "gpuClass": "premium",
    "kernelspec": {
      "display_name": "Python 3 (ipykernel)",
      "language": "python",
      "name": "python3"
    },
    "language_info": {
      "codemirror_mode": {
        "name": "ipython",
        "version": 3
      },
      "file_extension": ".py",
      "mimetype": "text/x-python",
      "name": "python",
      "nbconvert_exporter": "python",
      "pygments_lexer": "ipython3",
      "version": "3.10.4"
    },
    "accelerator": "GPU"
  },
  "nbformat": 4,
  "nbformat_minor": 5
}